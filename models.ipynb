{
 "cells": [
  {
   "cell_type": "code",
   "execution_count": 34,
   "metadata": {},
   "outputs": [],
   "source": [
    "import json\n",
    "import numpy as np\n",
    "import pandas as pd\n",
    "from sklearn.model_selection import train_test_split\n",
    "from sklearn.feature_extraction.text import TfidfVectorizer\n",
    "from sklearn.linear_model import LogisticRegression\n",
    "from sklearn.ensemble import RandomForestClassifier\n",
    "from sklearn.metrics import accuracy_score, classification_report\n",
    "from sklearn.model_selection import cross_val_score, StratifiedKFold\n",
    "from sklearn.model_selection import GridSearchCV\n",
    "from sklearn.discriminant_analysis import StandardScaler\n",
    "from gensim.models import Word2Vec"
   ]
  },
  {
   "cell_type": "markdown",
   "metadata": {},
   "source": [
    "# Import data"
   ]
  },
  {
   "cell_type": "code",
   "execution_count": 35,
   "metadata": {},
   "outputs": [],
   "source": [
    "# Specify the path to your JSON file\n",
    "json_file_path = 'News_Category_Dataset_IS_course.json'\n",
    "\n",
    "# Load only the first 1000 lines from the JSON file\n",
    "with open(json_file_path, 'r') as file:\n",
    "    data = [json.loads(line) for line in file.readlines()[:1000]]\n",
    "\n",
    "# Create a DataFrame from the data\n",
    "df = pd.DataFrame(data)\n",
    "\n",
    "# Drop rows with missing short_description\n",
    "df = df.dropna(subset=['short_description'])\n",
    "\n",
    "# Encode categories into numerical labels\n",
    "df['category_label'] = pd.Categorical(df['category']).codes\n",
    "\n",
    "# Select relevant columns\n",
    "df = df[['short_description', 'category_label']]\n",
    "\n",
    "# Split the data into training and testing sets\n",
    "X_train, X_test, y_train, y_test = train_test_split(df['short_description'], df['category_label'], test_size=0.2, random_state=42)\n"
   ]
  },
  {
   "cell_type": "markdown",
   "metadata": {},
   "source": [
    "# TF-IDF Vectorizer"
   ]
  },
  {
   "cell_type": "code",
   "execution_count": 36,
   "metadata": {},
   "outputs": [],
   "source": [
    "# Convert text data to numerical features using TF-IDF\n",
    "vectorizer = TfidfVectorizer(max_features=1000)\n",
    "X_train_tfidf = vectorizer.fit_transform(X_train)\n",
    "X_test_tfidf = vectorizer.transform(X_test)\n",
    "\n",
    "# Define cross-validation strategy (StratifiedKFold is suitable for classification tasks)\n",
    "cv = StratifiedKFold(n_splits=10, shuffle=True, random_state=42)\n",
    "\n",
    "# Transform the entire dataset\n",
    "X_tfidf = vectorizer.fit_transform(df['short_description'])"
   ]
  },
  {
   "cell_type": "markdown",
   "metadata": {},
   "source": [
    "# Word2Vec Vectorizer"
   ]
  },
  {
   "cell_type": "code",
   "execution_count": 38,
   "metadata": {},
   "outputs": [],
   "source": [
    "# Tokenize your text data into a list of words\n",
    "tokenized_X_train = [text.split() for text in X_train]\n",
    "tokenized_X_test = [text.split() for text in X_test]\n",
    "\n",
    "# Train Word2Vec model on the tokenized training data\n",
    "word2vec_model = Word2Vec(sentences=tokenized_X_train, vector_size=100, window=5, min_count=1, workers=4)\n",
    "\n",
    "# Function to get the average word embedding for a text\n",
    "def get_average_word_embedding(text, model):\n",
    "    words = text.split()\n",
    "    embeddings = [model.wv[word] for word in words if word in model.wv]\n",
    "    if embeddings:\n",
    "        return np.mean(embeddings, axis=0)\n",
    "    else:\n",
    "        return np.zeros(model.vector_size)\n",
    "\n",
    "# Get average word embeddings for training and test data\n",
    "X_train_word2vec = np.vstack([get_average_word_embedding(text, word2vec_model) for text in X_train])\n",
    "X_test_word2vec = np.vstack([get_average_word_embedding(text, word2vec_model) for text in X_test])\n",
    "\n",
    "# Standardize the features\n",
    "scaler = StandardScaler()\n",
    "X_train_word2vec = scaler.fit_transform(X_train_word2vec)\n",
    "X_test_word2vec = scaler.transform(X_test_word2vec)"
   ]
  },
  {
   "cell_type": "markdown",
   "metadata": {},
   "source": [
    "# Logistic Regression Model"
   ]
  },
  {
   "cell_type": "markdown",
   "metadata": {},
   "source": [
    "TF-IDF Vectorizer"
   ]
  },
  {
   "cell_type": "code",
   "execution_count": 39,
   "metadata": {},
   "outputs": [
    {
     "name": "stderr",
     "output_type": "stream",
     "text": [
      "c:\\Users\\Uporabnik\\AppData\\Local\\Programs\\Python\\Python311\\Lib\\site-packages\\sklearn\\model_selection\\_split.py:737: UserWarning: The least populated class in y has only 2 members, which is less than n_splits=10.\n",
      "  warnings.warn(\n"
     ]
    },
    {
     "name": "stdout",
     "output_type": "stream",
     "text": [
      "Logistic Regression Cross-Validation Scores: [0.66       0.66       0.69       0.68686869 0.68686869 0.67676768\n",
      " 0.65656566 0.67676768 0.6969697  0.5959596 ]\n",
      "Mean Accuracy: 0.6686767676767678\n"
     ]
    },
    {
     "name": "stderr",
     "output_type": "stream",
     "text": [
      "c:\\Users\\Uporabnik\\AppData\\Local\\Programs\\Python\\Python311\\Lib\\site-packages\\sklearn\\model_selection\\_split.py:737: UserWarning: The least populated class in y has only 2 members, which is less than n_splits=10.\n",
      "  warnings.warn(\n"
     ]
    },
    {
     "name": "stdout",
     "output_type": "stream",
     "text": [
      "Best Hyperparameters for Logistic Regression:\n",
      "{'C': 10}\n",
      "\n",
      "Logistic Regression Accuracy (with hyperparameter tuning): 0.7085427135678392\n",
      "              precision    recall  f1-score   support\n",
      "\n",
      "           0       0.00      0.00      0.00         1\n",
      "           1       0.00      0.00      0.00         5\n",
      "           2       1.00      0.17      0.29         6\n",
      "           3       0.70      0.80      0.75        56\n",
      "           4       0.00      0.00      0.00         5\n",
      "           5       1.00      0.33      0.50         3\n",
      "           6       0.00      0.00      0.00         2\n",
      "           7       0.71      0.94      0.81        89\n",
      "           9       0.71      0.28      0.40        18\n",
      "          10       0.00      0.00      0.00         4\n",
      "          12       0.62      0.50      0.56        10\n",
      "\n",
      "    accuracy                           0.71       199\n",
      "   macro avg       0.43      0.28      0.30       199\n",
      "weighted avg       0.66      0.71      0.65       199\n",
      "\n"
     ]
    },
    {
     "name": "stderr",
     "output_type": "stream",
     "text": [
      "c:\\Users\\Uporabnik\\AppData\\Local\\Programs\\Python\\Python311\\Lib\\site-packages\\sklearn\\metrics\\_classification.py:1471: UndefinedMetricWarning: Precision and F-score are ill-defined and being set to 0.0 in labels with no predicted samples. Use `zero_division` parameter to control this behavior.\n",
      "  _warn_prf(average, modifier, msg_start, len(result))\n",
      "c:\\Users\\Uporabnik\\AppData\\Local\\Programs\\Python\\Python311\\Lib\\site-packages\\sklearn\\metrics\\_classification.py:1471: UndefinedMetricWarning: Precision and F-score are ill-defined and being set to 0.0 in labels with no predicted samples. Use `zero_division` parameter to control this behavior.\n",
      "  _warn_prf(average, modifier, msg_start, len(result))\n",
      "c:\\Users\\Uporabnik\\AppData\\Local\\Programs\\Python\\Python311\\Lib\\site-packages\\sklearn\\metrics\\_classification.py:1471: UndefinedMetricWarning: Precision and F-score are ill-defined and being set to 0.0 in labels with no predicted samples. Use `zero_division` parameter to control this behavior.\n",
      "  _warn_prf(average, modifier, msg_start, len(result))\n"
     ]
    }
   ],
   "source": [
    "# Logistic Regression model\n",
    "logistic_regression_model = LogisticRegression(max_iter=1000)\n",
    "\n",
    "# Cross-validation for Logistic Regression\n",
    "logistic_regression_cv_scores = cross_val_score(logistic_regression_model, X_tfidf, df['category_label'], cv=cv, scoring='accuracy')\n",
    "print(\"Logistic Regression Cross-Validation Scores:\", logistic_regression_cv_scores)\n",
    "print(\"Mean Accuracy:\", logistic_regression_cv_scores.mean())\n",
    "\n",
    "# Hyperparameter tuning for Logistic Regression\n",
    "logistic_regression_params = {'C': [0.001, 0.01, 0.1, 1, 10, 100, 1000]}\n",
    "\n",
    "logistic_regression_model = LogisticRegression(max_iter=1000)\n",
    "logistic_regression_grid = GridSearchCV(logistic_regression_model, logistic_regression_params, cv=cv, scoring='accuracy')\n",
    "logistic_regression_grid.fit(X_train_tfidf, y_train)\n",
    "\n",
    "# Print the best hyperparameters for Logistic Regression\n",
    "print(\"Best Hyperparameters for Logistic Regression:\")\n",
    "print(logistic_regression_grid.best_params_)\n",
    "\n",
    "# Make predictions on the test set using the best Logistic Regression model\n",
    "logistic_regression_predictions = logistic_regression_grid.predict(X_test_tfidf)\n",
    "\n",
    "# Evaluate the Logistic Regression model\n",
    "logistic_regression_accuracy = accuracy_score(y_test, logistic_regression_predictions)\n",
    "print(\"\\nLogistic Regression Accuracy (with hyperparameter tuning):\", logistic_regression_accuracy)\n",
    "print(classification_report(y_test, logistic_regression_predictions))\n"
   ]
  },
  {
   "cell_type": "markdown",
   "metadata": {},
   "source": [
    "Word2Vec Vectorizer"
   ]
  },
  {
   "cell_type": "code",
   "execution_count": 41,
   "metadata": {},
   "outputs": [
    {
     "name": "stderr",
     "output_type": "stream",
     "text": [
      "c:\\Users\\Uporabnik\\AppData\\Local\\Programs\\Python\\Python311\\Lib\\site-packages\\sklearn\\model_selection\\_split.py:737: UserWarning: The least populated class in y has only 2 members, which is less than n_splits=10.\n",
      "  warnings.warn(\n"
     ]
    },
    {
     "name": "stdout",
     "output_type": "stream",
     "text": [
      "\n",
      "Logistic Regression (Word2Vec) Cross-Validation Scores: [0.4875     0.475      0.475      0.55       0.53164557 0.5443038\n",
      " 0.43037975 0.41772152 0.44303797 0.53164557]\n",
      "Mean Accuracy: 0.488623417721519\n"
     ]
    },
    {
     "name": "stderr",
     "output_type": "stream",
     "text": [
      "c:\\Users\\Uporabnik\\AppData\\Local\\Programs\\Python\\Python311\\Lib\\site-packages\\sklearn\\model_selection\\_split.py:737: UserWarning: The least populated class in y has only 2 members, which is less than n_splits=10.\n",
      "  warnings.warn(\n"
     ]
    },
    {
     "name": "stdout",
     "output_type": "stream",
     "text": [
      "\n",
      "Best Hyperparameters for Logistic Regression (Word2Vec):\n",
      "{'C': 0.01}\n",
      "\n",
      "Logistic Regression Accuracy (Word2Vec with hyperparameter tuning): 0.4623115577889447\n",
      "              precision    recall  f1-score   support\n",
      "\n",
      "           0       0.00      0.00      0.00         1\n",
      "           1       0.00      0.00      0.00         5\n",
      "           2       0.00      0.00      0.00         6\n",
      "           3       0.36      0.29      0.32        56\n",
      "           4       0.00      0.00      0.00         5\n",
      "           5       0.00      0.00      0.00         3\n",
      "           6       0.00      0.00      0.00         2\n",
      "           7       0.49      0.85      0.63        89\n",
      "           9       0.00      0.00      0.00        18\n",
      "          10       0.00      0.00      0.00         4\n",
      "          12       0.00      0.00      0.00        10\n",
      "\n",
      "    accuracy                           0.46       199\n",
      "   macro avg       0.08      0.10      0.09       199\n",
      "weighted avg       0.32      0.46      0.37       199\n",
      "\n"
     ]
    },
    {
     "name": "stderr",
     "output_type": "stream",
     "text": [
      "c:\\Users\\Uporabnik\\AppData\\Local\\Programs\\Python\\Python311\\Lib\\site-packages\\sklearn\\metrics\\_classification.py:1471: UndefinedMetricWarning: Precision and F-score are ill-defined and being set to 0.0 in labels with no predicted samples. Use `zero_division` parameter to control this behavior.\n",
      "  _warn_prf(average, modifier, msg_start, len(result))\n",
      "c:\\Users\\Uporabnik\\AppData\\Local\\Programs\\Python\\Python311\\Lib\\site-packages\\sklearn\\metrics\\_classification.py:1471: UndefinedMetricWarning: Precision and F-score are ill-defined and being set to 0.0 in labels with no predicted samples. Use `zero_division` parameter to control this behavior.\n",
      "  _warn_prf(average, modifier, msg_start, len(result))\n",
      "c:\\Users\\Uporabnik\\AppData\\Local\\Programs\\Python\\Python311\\Lib\\site-packages\\sklearn\\metrics\\_classification.py:1471: UndefinedMetricWarning: Precision and F-score are ill-defined and being set to 0.0 in labels with no predicted samples. Use `zero_division` parameter to control this behavior.\n",
      "  _warn_prf(average, modifier, msg_start, len(result))\n"
     ]
    }
   ],
   "source": [
    "# Logistic Regression model\n",
    "logistic_regression_model_word2vec = LogisticRegression(max_iter=10000)\n",
    "\n",
    "# Cross-validation for Logistic Regression\n",
    "logistic_regression_cv_scores_word2vec = cross_val_score(logistic_regression_model_word2vec, X_train_word2vec, y_train, cv=cv, scoring='accuracy')\n",
    "print(\"\\nLogistic Regression (Word2Vec) Cross-Validation Scores:\", logistic_regression_cv_scores_word2vec)\n",
    "print(\"Mean Accuracy:\", logistic_regression_cv_scores_word2vec.mean())\n",
    "\n",
    "# Hyperparameter tuning for Logistic Regression\n",
    "logistic_regression_params_word2vec = {'C': [0.001, 0.01, 0.1, 1, 10, 100, 1000]}\n",
    "\n",
    "logistic_regression_grid_word2vec = GridSearchCV(logistic_regression_model_word2vec, logistic_regression_params_word2vec, cv=cv, scoring='accuracy')\n",
    "logistic_regression_grid_word2vec.fit(X_train_word2vec, y_train)\n",
    "\n",
    "# Print the best hyperparameters for Logistic Regression with Word2Vec\n",
    "print(\"\\nBest Hyperparameters for Logistic Regression (Word2Vec):\")\n",
    "print(logistic_regression_grid_word2vec.best_params_)\n",
    "\n",
    "# Make predictions on the test set using the best Logistic Regression model with Word2Vec\n",
    "logistic_regression_predictions_word2vec = logistic_regression_grid_word2vec.predict(X_test_word2vec)\n",
    "\n",
    "# Evaluate the Logistic Regression model with Word2Vec\n",
    "logistic_regression_accuracy_word2vec = accuracy_score(y_test, logistic_regression_predictions_word2vec)\n",
    "print(\"\\nLogistic Regression Accuracy (Word2Vec with hyperparameter tuning):\", logistic_regression_accuracy_word2vec)\n",
    "print(classification_report(y_test, logistic_regression_predictions_word2vec))"
   ]
  },
  {
   "cell_type": "markdown",
   "metadata": {},
   "source": [
    "# Random Forest Model"
   ]
  },
  {
   "cell_type": "markdown",
   "metadata": {},
   "source": [
    "TF-IDF Vectorizer"
   ]
  },
  {
   "cell_type": "code",
   "execution_count": 42,
   "metadata": {},
   "outputs": [
    {
     "name": "stderr",
     "output_type": "stream",
     "text": [
      "c:\\Users\\Uporabnik\\AppData\\Local\\Programs\\Python\\Python311\\Lib\\site-packages\\sklearn\\model_selection\\_split.py:737: UserWarning: The least populated class in y has only 2 members, which is less than n_splits=10.\n",
      "  warnings.warn(\n"
     ]
    },
    {
     "name": "stdout",
     "output_type": "stream",
     "text": [
      "\n",
      "Random Forest Cross-Validation Scores: [0.65       0.65       0.71       0.67676768 0.66666667 0.6969697\n",
      " 0.64646465 0.72727273 0.65656566 0.60606061]\n",
      "Mean Accuracy: 0.6686767676767678\n"
     ]
    },
    {
     "name": "stderr",
     "output_type": "stream",
     "text": [
      "c:\\Users\\Uporabnik\\AppData\\Local\\Programs\\Python\\Python311\\Lib\\site-packages\\sklearn\\model_selection\\_split.py:737: UserWarning: The least populated class in y has only 2 members, which is less than n_splits=10.\n",
      "  warnings.warn(\n"
     ]
    },
    {
     "name": "stdout",
     "output_type": "stream",
     "text": [
      "\n",
      "Best Hyperparameters for Random Forest:\n",
      "{'max_depth': 50, 'n_estimators': 150}\n",
      "\n",
      "Random Forest Accuracy (with hyperparameter tuning): 0.5879396984924623\n",
      "              precision    recall  f1-score   support\n",
      "\n",
      "           0       0.00      0.00      0.00         1\n",
      "           1       0.00      0.00      0.00         5\n",
      "           2       0.00      0.00      0.00         6\n",
      "           3       0.63      0.57      0.60        56\n",
      "           4       0.00      0.00      0.00         5\n",
      "           5       1.00      0.33      0.50         3\n",
      "           6       0.00      0.00      0.00         2\n",
      "           7       0.58      0.93      0.72        89\n",
      "           9       0.00      0.00      0.00        18\n",
      "          10       0.00      0.00      0.00         4\n",
      "          12       0.25      0.10      0.14        10\n",
      "\n",
      "    accuracy                           0.59       199\n",
      "   macro avg       0.22      0.18      0.18       199\n",
      "weighted avg       0.47      0.59      0.50       199\n",
      "\n"
     ]
    },
    {
     "name": "stderr",
     "output_type": "stream",
     "text": [
      "c:\\Users\\Uporabnik\\AppData\\Local\\Programs\\Python\\Python311\\Lib\\site-packages\\sklearn\\metrics\\_classification.py:1471: UndefinedMetricWarning: Precision and F-score are ill-defined and being set to 0.0 in labels with no predicted samples. Use `zero_division` parameter to control this behavior.\n",
      "  _warn_prf(average, modifier, msg_start, len(result))\n",
      "c:\\Users\\Uporabnik\\AppData\\Local\\Programs\\Python\\Python311\\Lib\\site-packages\\sklearn\\metrics\\_classification.py:1471: UndefinedMetricWarning: Precision and F-score are ill-defined and being set to 0.0 in labels with no predicted samples. Use `zero_division` parameter to control this behavior.\n",
      "  _warn_prf(average, modifier, msg_start, len(result))\n",
      "c:\\Users\\Uporabnik\\AppData\\Local\\Programs\\Python\\Python311\\Lib\\site-packages\\sklearn\\metrics\\_classification.py:1471: UndefinedMetricWarning: Precision and F-score are ill-defined and being set to 0.0 in labels with no predicted samples. Use `zero_division` parameter to control this behavior.\n",
      "  _warn_prf(average, modifier, msg_start, len(result))\n"
     ]
    }
   ],
   "source": [
    "# Random Forest model\n",
    "random_forest_model = RandomForestClassifier(n_estimators=100, random_state=42)\n",
    "\n",
    "# Cross-validation for Random Forest\n",
    "random_forest_cv_scores = cross_val_score(random_forest_model, X_tfidf, df['category_label'], cv=cv, scoring='accuracy')\n",
    "print(\"\\nRandom Forest Cross-Validation Scores:\", random_forest_cv_scores)\n",
    "print(\"Mean Accuracy:\", random_forest_cv_scores.mean())\n",
    "\n",
    "# Hyperparameter tuning for Random Forest\n",
    "random_forest_params = {'n_estimators': [100, 150, 200], 'max_depth': [20, 30, 40, 50]}\n",
    "\n",
    "random_forest_model = RandomForestClassifier(random_state=42)\n",
    "random_forest_grid = GridSearchCV(random_forest_model, random_forest_params, cv=cv, scoring='accuracy')\n",
    "random_forest_grid.fit(X_train_tfidf, y_train)\n",
    "\n",
    "# Print the best hyperparameters for Random Forest\n",
    "print(\"\\nBest Hyperparameters for Random Forest:\")\n",
    "print(random_forest_grid.best_params_)\n",
    "\n",
    "# Make predictions on the test set using the best Random Forest model\n",
    "random_forest_predictions = random_forest_grid.predict(X_test_tfidf)\n",
    "\n",
    "# Evaluate the Random Forest model\n",
    "random_forest_accuracy = accuracy_score(y_test, random_forest_predictions)\n",
    "print(\"\\nRandom Forest Accuracy (with hyperparameter tuning):\", random_forest_accuracy)\n",
    "print(classification_report(y_test, random_forest_predictions))"
   ]
  },
  {
   "cell_type": "markdown",
   "metadata": {},
   "source": [
    "Word2Vec Vectorizer"
   ]
  },
  {
   "cell_type": "code",
   "execution_count": 43,
   "metadata": {},
   "outputs": [
    {
     "name": "stderr",
     "output_type": "stream",
     "text": [
      "c:\\Users\\Uporabnik\\AppData\\Local\\Programs\\Python\\Python311\\Lib\\site-packages\\sklearn\\model_selection\\_split.py:737: UserWarning: The least populated class in y has only 2 members, which is less than n_splits=10.\n",
      "  warnings.warn(\n"
     ]
    },
    {
     "name": "stdout",
     "output_type": "stream",
     "text": [
      "\n",
      "Random Forest (Word2Vec) Cross-Validation Scores: [0.5125     0.5125     0.4875     0.4875     0.55696203 0.51898734\n",
      " 0.51898734 0.49367089 0.49367089 0.58227848]\n",
      "Mean Accuracy: 0.5164556962025317\n"
     ]
    },
    {
     "name": "stderr",
     "output_type": "stream",
     "text": [
      "c:\\Users\\Uporabnik\\AppData\\Local\\Programs\\Python\\Python311\\Lib\\site-packages\\sklearn\\model_selection\\_split.py:737: UserWarning: The least populated class in y has only 2 members, which is less than n_splits=10.\n",
      "  warnings.warn(\n"
     ]
    },
    {
     "name": "stdout",
     "output_type": "stream",
     "text": [
      "\n",
      "Best Hyperparameters for Random Forest (Word2Vec):\n",
      "{'max_depth': 20, 'n_estimators': 200}\n",
      "\n",
      "Random Forest Accuracy (Word2Vec with hyperparameter tuning): 0.45226130653266333\n",
      "              precision    recall  f1-score   support\n",
      "\n",
      "           0       0.00      0.00      0.00         1\n",
      "           1       0.00      0.00      0.00         5\n",
      "           2       0.00      0.00      0.00         6\n",
      "           3       0.34      0.21      0.26        56\n",
      "           4       0.00      0.00      0.00         5\n",
      "           5       1.00      0.33      0.50         3\n",
      "           6       0.00      0.00      0.00         2\n",
      "           7       0.47      0.87      0.61        89\n",
      "           9       0.00      0.00      0.00        18\n",
      "          10       0.00      0.00      0.00         4\n",
      "          12       0.00      0.00      0.00        10\n",
      "\n",
      "    accuracy                           0.45       199\n",
      "   macro avg       0.17      0.13      0.12       199\n",
      "weighted avg       0.32      0.45      0.36       199\n",
      "\n"
     ]
    },
    {
     "name": "stderr",
     "output_type": "stream",
     "text": [
      "c:\\Users\\Uporabnik\\AppData\\Local\\Programs\\Python\\Python311\\Lib\\site-packages\\sklearn\\metrics\\_classification.py:1471: UndefinedMetricWarning: Precision and F-score are ill-defined and being set to 0.0 in labels with no predicted samples. Use `zero_division` parameter to control this behavior.\n",
      "  _warn_prf(average, modifier, msg_start, len(result))\n",
      "c:\\Users\\Uporabnik\\AppData\\Local\\Programs\\Python\\Python311\\Lib\\site-packages\\sklearn\\metrics\\_classification.py:1471: UndefinedMetricWarning: Precision and F-score are ill-defined and being set to 0.0 in labels with no predicted samples. Use `zero_division` parameter to control this behavior.\n",
      "  _warn_prf(average, modifier, msg_start, len(result))\n",
      "c:\\Users\\Uporabnik\\AppData\\Local\\Programs\\Python\\Python311\\Lib\\site-packages\\sklearn\\metrics\\_classification.py:1471: UndefinedMetricWarning: Precision and F-score are ill-defined and being set to 0.0 in labels with no predicted samples. Use `zero_division` parameter to control this behavior.\n",
      "  _warn_prf(average, modifier, msg_start, len(result))\n"
     ]
    }
   ],
   "source": [
    "# Random Forest model\n",
    "random_forest_model_word2vec = RandomForestClassifier(random_state=42)\n",
    "\n",
    "# Cross-validation for Random Forest\n",
    "random_forest_cv_scores_word2vec = cross_val_score(random_forest_model_word2vec, X_train_word2vec, y_train, cv=cv, scoring='accuracy')\n",
    "print(\"\\nRandom Forest (Word2Vec) Cross-Validation Scores:\", random_forest_cv_scores_word2vec)\n",
    "print(\"Mean Accuracy:\", random_forest_cv_scores_word2vec.mean())\n",
    "\n",
    "# Hyperparameter tuning for Random Forest\n",
    "random_forest_params_word2vec = {'n_estimators': [100, 150, 200], 'max_depth': [20, 30, 40, 50]}\n",
    "\n",
    "random_forest_grid_word2vec = GridSearchCV(random_forest_model_word2vec, random_forest_params_word2vec, cv=cv, scoring='accuracy')\n",
    "random_forest_grid_word2vec.fit(X_train_word2vec, y_train)\n",
    "\n",
    "# Print the best hyperparameters for Random Forest with Word2Vec\n",
    "print(\"\\nBest Hyperparameters for Random Forest (Word2Vec):\")\n",
    "print(random_forest_grid_word2vec.best_params_)\n",
    "\n",
    "# Make predictions on the test set using the best Random Forest model with Word2Vec\n",
    "random_forest_predictions_word2vec = random_forest_grid_word2vec.predict(X_test_word2vec)\n",
    "\n",
    "# Evaluate the Random Forest model with Word2Vec\n",
    "random_forest_accuracy_word2vec = accuracy_score(y_test, random_forest_predictions_word2vec)\n",
    "print(\"\\nRandom Forest Accuracy (Word2Vec with hyperparameter tuning):\", random_forest_accuracy_word2vec)\n",
    "print(classification_report(y_test, random_forest_predictions_word2vec))"
   ]
  },
  {
   "cell_type": "markdown",
   "metadata": {},
   "source": [
    "# KNN Model"
   ]
  },
  {
   "cell_type": "markdown",
   "metadata": {},
   "source": [
    "TF-IDF Vectorizer"
   ]
  },
  {
   "cell_type": "code",
   "execution_count": 44,
   "metadata": {},
   "outputs": [
    {
     "name": "stderr",
     "output_type": "stream",
     "text": [
      "c:\\Users\\Uporabnik\\AppData\\Local\\Programs\\Python\\Python311\\Lib\\site-packages\\sklearn\\model_selection\\_split.py:737: UserWarning: The least populated class in y has only 2 members, which is less than n_splits=10.\n",
      "  warnings.warn(\n"
     ]
    },
    {
     "name": "stdout",
     "output_type": "stream",
     "text": [
      "\n",
      "KNN Cross-Validation Scores: [0.67       0.63       0.68       0.66666667 0.67676768 0.68686869\n",
      " 0.68686869 0.65656566 0.67676768 0.64646465]\n",
      "Mean Accuracy: 0.6676969696969697\n"
     ]
    },
    {
     "name": "stderr",
     "output_type": "stream",
     "text": [
      "c:\\Users\\Uporabnik\\AppData\\Local\\Programs\\Python\\Python311\\Lib\\site-packages\\sklearn\\model_selection\\_split.py:737: UserWarning: The least populated class in y has only 2 members, which is less than n_splits=10.\n",
      "  warnings.warn(\n"
     ]
    },
    {
     "name": "stdout",
     "output_type": "stream",
     "text": [
      "\n",
      "Best Hyperparameters for KNN:\n",
      "{'n_neighbors': 10}\n",
      "\n",
      "KNN Accuracy (with hyperparameter tuning): 0.6482412060301508\n",
      "              precision    recall  f1-score   support\n",
      "\n",
      "           0       0.00      0.00      0.00         1\n",
      "           1       0.00      0.00      0.00         5\n",
      "           2       0.00      0.00      0.00         6\n",
      "           3       0.63      0.80      0.71        56\n",
      "           4       0.00      0.00      0.00         5\n",
      "           5       0.00      0.00      0.00         3\n",
      "           6       0.00      0.00      0.00         2\n",
      "           7       0.69      0.85      0.76        89\n",
      "           9       0.62      0.28      0.38        18\n",
      "          10       0.33      0.25      0.29         4\n",
      "          12       0.50      0.20      0.29        10\n",
      "\n",
      "    accuracy                           0.65       199\n",
      "   macro avg       0.25      0.22      0.22       199\n",
      "weighted avg       0.58      0.65      0.60       199\n",
      "\n"
     ]
    },
    {
     "name": "stderr",
     "output_type": "stream",
     "text": [
      "c:\\Users\\Uporabnik\\AppData\\Local\\Programs\\Python\\Python311\\Lib\\site-packages\\sklearn\\metrics\\_classification.py:1471: UndefinedMetricWarning: Precision and F-score are ill-defined and being set to 0.0 in labels with no predicted samples. Use `zero_division` parameter to control this behavior.\n",
      "  _warn_prf(average, modifier, msg_start, len(result))\n",
      "c:\\Users\\Uporabnik\\AppData\\Local\\Programs\\Python\\Python311\\Lib\\site-packages\\sklearn\\metrics\\_classification.py:1471: UndefinedMetricWarning: Precision and F-score are ill-defined and being set to 0.0 in labels with no predicted samples. Use `zero_division` parameter to control this behavior.\n",
      "  _warn_prf(average, modifier, msg_start, len(result))\n",
      "c:\\Users\\Uporabnik\\AppData\\Local\\Programs\\Python\\Python311\\Lib\\site-packages\\sklearn\\metrics\\_classification.py:1471: UndefinedMetricWarning: Precision and F-score are ill-defined and being set to 0.0 in labels with no predicted samples. Use `zero_division` parameter to control this behavior.\n",
      "  _warn_prf(average, modifier, msg_start, len(result))\n"
     ]
    }
   ],
   "source": [
    "from sklearn.neighbors import KNeighborsClassifier\n",
    "\n",
    "# KNN model\n",
    "knn_model = KNeighborsClassifier(n_neighbors=5)  # You can adjust the number of neighbors\n",
    "\n",
    "# Cross-validation for KNN\n",
    "knn_cv_scores = cross_val_score(knn_model, X_tfidf, df['category_label'], cv=cv, scoring='accuracy')\n",
    "print(\"\\nKNN Cross-Validation Scores:\", knn_cv_scores)\n",
    "print(\"Mean Accuracy:\", knn_cv_scores.mean())\n",
    "\n",
    "# Hyperparameter tuning for KNN\n",
    "knn_params = {'n_neighbors': range(1, 11)}\n",
    "\n",
    "knn_grid = GridSearchCV(knn_model, knn_params, cv=cv, scoring='accuracy')\n",
    "knn_grid.fit(X_train_tfidf, y_train)\n",
    "\n",
    "# Print the best hyperparameters for KNN\n",
    "print(\"\\nBest Hyperparameters for KNN:\")\n",
    "print(knn_grid.best_params_)\n",
    "\n",
    "# Make predictions on the test set using the best KNN model\n",
    "knn_predictions = knn_grid.predict(X_test_tfidf)\n",
    "\n",
    "# Evaluate the KNN model\n",
    "knn_accuracy = accuracy_score(y_test, knn_predictions)\n",
    "print(\"\\nKNN Accuracy (with hyperparameter tuning):\", knn_accuracy)\n",
    "print(classification_report(y_test, knn_predictions))\n"
   ]
  },
  {
   "cell_type": "markdown",
   "metadata": {},
   "source": [
    "Word2Vec Vectorizer"
   ]
  },
  {
   "cell_type": "code",
   "execution_count": 45,
   "metadata": {},
   "outputs": [
    {
     "name": "stderr",
     "output_type": "stream",
     "text": [
      "c:\\Users\\Uporabnik\\AppData\\Local\\Programs\\Python\\Python311\\Lib\\site-packages\\sklearn\\model_selection\\_split.py:737: UserWarning: The least populated class in y has only 2 members, which is less than n_splits=10.\n",
      "  warnings.warn(\n",
      "c:\\Users\\Uporabnik\\AppData\\Local\\Programs\\Python\\Python311\\Lib\\site-packages\\sklearn\\model_selection\\_split.py:737: UserWarning: The least populated class in y has only 2 members, which is less than n_splits=10.\n",
      "  warnings.warn(\n"
     ]
    },
    {
     "name": "stdout",
     "output_type": "stream",
     "text": [
      "\n",
      "KNN (Word2Vec) Cross-Validation Scores: [0.4125     0.4125     0.425      0.4875     0.46835443 0.51898734\n",
      " 0.43037975 0.43037975 0.5443038  0.48101266]\n",
      "Mean Accuracy: 0.4610917721518987\n",
      "\n",
      "Best Hyperparameters for KNN (Word2Vec):\n",
      "{'n_neighbors': 9}\n",
      "\n",
      "KNN Accuracy (Word2Vec with hyperparameter tuning): 0.4472361809045226\n",
      "              precision    recall  f1-score   support\n",
      "\n",
      "           0       0.00      0.00      0.00         1\n",
      "           1       0.00      0.00      0.00         5\n",
      "           2       0.00      0.00      0.00         6\n",
      "           3       0.37      0.29      0.32        56\n",
      "           4       0.00      0.00      0.00         5\n",
      "           5       0.00      0.00      0.00         3\n",
      "           6       0.00      0.00      0.00         2\n",
      "           7       0.47      0.82      0.60        89\n",
      "           9       0.00      0.00      0.00        18\n",
      "          10       0.00      0.00      0.00         4\n",
      "          12       0.00      0.00      0.00        10\n",
      "\n",
      "    accuracy                           0.45       199\n",
      "   macro avg       0.08      0.10      0.08       199\n",
      "weighted avg       0.31      0.45      0.36       199\n",
      "\n"
     ]
    },
    {
     "name": "stderr",
     "output_type": "stream",
     "text": [
      "c:\\Users\\Uporabnik\\AppData\\Local\\Programs\\Python\\Python311\\Lib\\site-packages\\sklearn\\metrics\\_classification.py:1471: UndefinedMetricWarning: Precision and F-score are ill-defined and being set to 0.0 in labels with no predicted samples. Use `zero_division` parameter to control this behavior.\n",
      "  _warn_prf(average, modifier, msg_start, len(result))\n",
      "c:\\Users\\Uporabnik\\AppData\\Local\\Programs\\Python\\Python311\\Lib\\site-packages\\sklearn\\metrics\\_classification.py:1471: UndefinedMetricWarning: Precision and F-score are ill-defined and being set to 0.0 in labels with no predicted samples. Use `zero_division` parameter to control this behavior.\n",
      "  _warn_prf(average, modifier, msg_start, len(result))\n",
      "c:\\Users\\Uporabnik\\AppData\\Local\\Programs\\Python\\Python311\\Lib\\site-packages\\sklearn\\metrics\\_classification.py:1471: UndefinedMetricWarning: Precision and F-score are ill-defined and being set to 0.0 in labels with no predicted samples. Use `zero_division` parameter to control this behavior.\n",
      "  _warn_prf(average, modifier, msg_start, len(result))\n"
     ]
    }
   ],
   "source": [
    "# KNN model\n",
    "knn_model_word2vec = KNeighborsClassifier(n_neighbors=5)  # You can adjust the number of neighbors\n",
    "\n",
    "# Cross-validation for KNN\n",
    "knn_cv_scores_word2vec = cross_val_score(knn_model_word2vec, X_train_word2vec, y_train, cv=cv, scoring='accuracy')\n",
    "print(\"\\nKNN (Word2Vec) Cross-Validation Scores:\", knn_cv_scores_word2vec)\n",
    "print(\"Mean Accuracy:\", knn_cv_scores_word2vec.mean())\n",
    "\n",
    "# Hyperparameter tuning for KNN\n",
    "knn_params_word2vec = {'n_neighbors': range(1, 11)}\n",
    "\n",
    "knn_grid_word2vec = GridSearchCV(knn_model_word2vec, knn_params_word2vec, cv=cv, scoring='accuracy')\n",
    "knn_grid_word2vec.fit(X_train_word2vec, y_train)\n",
    "\n",
    "# Print the best hyperparameters for KNN with Word2Vec\n",
    "print(\"\\nBest Hyperparameters for KNN (Word2Vec):\")\n",
    "print(knn_grid_word2vec.best_params_)\n",
    "\n",
    "# Make predictions on the test set using the best KNN model with Word2Vec\n",
    "knn_predictions_word2vec = knn_grid_word2vec.predict(X_test_word2vec)\n",
    "\n",
    "# Evaluate the KNN model with Word2Vec\n",
    "knn_accuracy_word2vec = accuracy_score(y_test, knn_predictions_word2vec)\n",
    "print(\"\\nKNN Accuracy (Word2Vec with hyperparameter tuning):\", knn_accuracy_word2vec)\n",
    "print(classification_report(y_test, knn_predictions_word2vec))"
   ]
  },
  {
   "cell_type": "markdown",
   "metadata": {},
   "source": [
    "# SVM Model"
   ]
  },
  {
   "cell_type": "markdown",
   "metadata": {},
   "source": [
    "TF-IDF Vectorizer"
   ]
  },
  {
   "cell_type": "code",
   "execution_count": 46,
   "metadata": {},
   "outputs": [
    {
     "name": "stderr",
     "output_type": "stream",
     "text": [
      "c:\\Users\\Uporabnik\\AppData\\Local\\Programs\\Python\\Python311\\Lib\\site-packages\\sklearn\\model_selection\\_split.py:737: UserWarning: The least populated class in y has only 2 members, which is less than n_splits=10.\n",
      "  warnings.warn(\n"
     ]
    },
    {
     "name": "stdout",
     "output_type": "stream",
     "text": [
      "\n",
      "SVM Cross-Validation Scores: [0.73       0.68       0.72       0.6969697  0.70707071 0.72727273\n",
      " 0.66666667 0.74747475 0.72727273 0.62626263]\n",
      "Mean Accuracy: 0.7028989898989899\n"
     ]
    },
    {
     "name": "stderr",
     "output_type": "stream",
     "text": [
      "c:\\Users\\Uporabnik\\AppData\\Local\\Programs\\Python\\Python311\\Lib\\site-packages\\sklearn\\model_selection\\_split.py:737: UserWarning: The least populated class in y has only 2 members, which is less than n_splits=10.\n",
      "  warnings.warn(\n"
     ]
    },
    {
     "name": "stdout",
     "output_type": "stream",
     "text": [
      "\n",
      "Best Hyperparameters for SVM:\n",
      "{'C': 1, 'kernel': 'linear'}\n",
      "\n",
      "SVM Accuracy (with hyperparameter tuning): 0.6934673366834171\n",
      "              precision    recall  f1-score   support\n",
      "\n",
      "           0       0.00      0.00      0.00         1\n",
      "           1       0.00      0.00      0.00         5\n",
      "           2       0.00      0.00      0.00         6\n",
      "           3       0.71      0.75      0.73        56\n",
      "           4       0.00      0.00      0.00         5\n",
      "           5       1.00      0.33      0.50         3\n",
      "           6       0.00      0.00      0.00         2\n",
      "           7       0.68      0.96      0.79        89\n",
      "           9       0.83      0.28      0.42        18\n",
      "          10       0.00      0.00      0.00         4\n",
      "          12       0.62      0.50      0.56        10\n",
      "\n",
      "    accuracy                           0.69       199\n",
      "   macro avg       0.35      0.26      0.27       199\n",
      "weighted avg       0.63      0.69      0.63       199\n",
      "\n"
     ]
    },
    {
     "name": "stderr",
     "output_type": "stream",
     "text": [
      "c:\\Users\\Uporabnik\\AppData\\Local\\Programs\\Python\\Python311\\Lib\\site-packages\\sklearn\\metrics\\_classification.py:1471: UndefinedMetricWarning: Precision and F-score are ill-defined and being set to 0.0 in labels with no predicted samples. Use `zero_division` parameter to control this behavior.\n",
      "  _warn_prf(average, modifier, msg_start, len(result))\n",
      "c:\\Users\\Uporabnik\\AppData\\Local\\Programs\\Python\\Python311\\Lib\\site-packages\\sklearn\\metrics\\_classification.py:1471: UndefinedMetricWarning: Precision and F-score are ill-defined and being set to 0.0 in labels with no predicted samples. Use `zero_division` parameter to control this behavior.\n",
      "  _warn_prf(average, modifier, msg_start, len(result))\n",
      "c:\\Users\\Uporabnik\\AppData\\Local\\Programs\\Python\\Python311\\Lib\\site-packages\\sklearn\\metrics\\_classification.py:1471: UndefinedMetricWarning: Precision and F-score are ill-defined and being set to 0.0 in labels with no predicted samples. Use `zero_division` parameter to control this behavior.\n",
      "  _warn_prf(average, modifier, msg_start, len(result))\n"
     ]
    }
   ],
   "source": [
    "from sklearn.svm import SVC\n",
    "\n",
    "# SVM model\n",
    "svm_model = SVC(kernel='linear')  # You can adjust the kernel and other parameters\n",
    "\n",
    "# Cross-validation for SVM\n",
    "svm_cv_scores = cross_val_score(svm_model, X_tfidf, df['category_label'], cv=cv, scoring='accuracy')\n",
    "print(\"\\nSVM Cross-Validation Scores:\", svm_cv_scores)\n",
    "print(\"Mean Accuracy:\", svm_cv_scores.mean())\n",
    "\n",
    "# Hyperparameter tuning for SVM\n",
    "svm_params = {'C': [0.1, 1, 10, 100], 'kernel': ['linear', 'rbf']}  # You can adjust the range of C and kernel\n",
    "\n",
    "svm_grid = GridSearchCV(svm_model, svm_params, cv=cv, scoring='accuracy')\n",
    "svm_grid.fit(X_train_tfidf, y_train)\n",
    "\n",
    "# Print the best hyperparameters for SVM\n",
    "print(\"\\nBest Hyperparameters for SVM:\")\n",
    "print(svm_grid.best_params_)\n",
    "\n",
    "# Make predictions on the test set using the best SVM model\n",
    "svm_predictions = svm_grid.predict(X_test_tfidf)\n",
    "\n",
    "# Evaluate the SVM model\n",
    "svm_accuracy = accuracy_score(y_test, svm_predictions)\n",
    "print(\"\\nSVM Accuracy (with hyperparameter tuning):\", svm_accuracy)\n",
    "print(classification_report(y_test, svm_predictions))\n"
   ]
  },
  {
   "cell_type": "markdown",
   "metadata": {},
   "source": [
    "Word2Vec Vectorizer"
   ]
  },
  {
   "cell_type": "code",
   "execution_count": 47,
   "metadata": {},
   "outputs": [
    {
     "name": "stderr",
     "output_type": "stream",
     "text": [
      "c:\\Users\\Uporabnik\\AppData\\Local\\Programs\\Python\\Python311\\Lib\\site-packages\\sklearn\\model_selection\\_split.py:737: UserWarning: The least populated class in y has only 2 members, which is less than n_splits=10.\n",
      "  warnings.warn(\n"
     ]
    },
    {
     "name": "stdout",
     "output_type": "stream",
     "text": [
      "\n",
      "SVM (Word2Vec) Cross-Validation Scores: [0.5125     0.475      0.425      0.4        0.48101266 0.46835443\n",
      " 0.34177215 0.43037975 0.44303797 0.5443038 ]\n",
      "Mean Accuracy: 0.4521360759493671\n"
     ]
    },
    {
     "name": "stderr",
     "output_type": "stream",
     "text": [
      "c:\\Users\\Uporabnik\\AppData\\Local\\Programs\\Python\\Python311\\Lib\\site-packages\\sklearn\\model_selection\\_split.py:737: UserWarning: The least populated class in y has only 2 members, which is less than n_splits=10.\n",
      "  warnings.warn(\n"
     ]
    },
    {
     "name": "stdout",
     "output_type": "stream",
     "text": [
      "\n",
      "Best Hyperparameters for SVM (Word2Vec):\n",
      "{'C': 0.1, 'kernel': 'linear'}\n",
      "\n",
      "SVM Accuracy (Word2Vec with hyperparameter tuning): 0.45226130653266333\n",
      "              precision    recall  f1-score   support\n",
      "\n",
      "           0       0.00      0.00      0.00         1\n",
      "           1       0.50      0.20      0.29         5\n",
      "           2       0.00      0.00      0.00         6\n",
      "           3       0.41      0.36      0.38        56\n",
      "           4       1.00      0.40      0.57         5\n",
      "           5       1.00      0.33      0.50         3\n",
      "           6       0.00      0.00      0.00         2\n",
      "           7       0.50      0.73      0.59        89\n",
      "           9       0.50      0.06      0.10        18\n",
      "          10       0.00      0.00      0.00         4\n",
      "          12       0.00      0.00      0.00        10\n",
      "\n",
      "    accuracy                           0.45       199\n",
      "   macro avg       0.36      0.19      0.22       199\n",
      "weighted avg       0.44      0.45      0.41       199\n",
      "\n"
     ]
    },
    {
     "name": "stderr",
     "output_type": "stream",
     "text": [
      "c:\\Users\\Uporabnik\\AppData\\Local\\Programs\\Python\\Python311\\Lib\\site-packages\\sklearn\\metrics\\_classification.py:1471: UndefinedMetricWarning: Precision and F-score are ill-defined and being set to 0.0 in labels with no predicted samples. Use `zero_division` parameter to control this behavior.\n",
      "  _warn_prf(average, modifier, msg_start, len(result))\n",
      "c:\\Users\\Uporabnik\\AppData\\Local\\Programs\\Python\\Python311\\Lib\\site-packages\\sklearn\\metrics\\_classification.py:1471: UndefinedMetricWarning: Precision and F-score are ill-defined and being set to 0.0 in labels with no predicted samples. Use `zero_division` parameter to control this behavior.\n",
      "  _warn_prf(average, modifier, msg_start, len(result))\n",
      "c:\\Users\\Uporabnik\\AppData\\Local\\Programs\\Python\\Python311\\Lib\\site-packages\\sklearn\\metrics\\_classification.py:1471: UndefinedMetricWarning: Precision and F-score are ill-defined and being set to 0.0 in labels with no predicted samples. Use `zero_division` parameter to control this behavior.\n",
      "  _warn_prf(average, modifier, msg_start, len(result))\n"
     ]
    }
   ],
   "source": [
    "# SVM model\n",
    "svm_model_word2vec = SVC(kernel='linear')  # You can adjust the kernel and other parameters\n",
    "\n",
    "# Cross-validation for SVM\n",
    "svm_cv_scores_word2vec = cross_val_score(svm_model_word2vec, X_train_word2vec, y_train, cv=cv, scoring='accuracy')\n",
    "print(\"\\nSVM (Word2Vec) Cross-Validation Scores:\", svm_cv_scores_word2vec)\n",
    "print(\"Mean Accuracy:\", svm_cv_scores_word2vec.mean())\n",
    "\n",
    "# Hyperparameter tuning for SVM\n",
    "svm_params_word2vec = {'C': [0.1, 1, 10, 100], 'kernel': ['linear', 'rbf']}  # You can adjust the range of C and kernel\n",
    "\n",
    "svm_grid_word2vec = GridSearchCV(svm_model_word2vec, svm_params_word2vec, cv=cv, scoring='accuracy')\n",
    "svm_grid_word2vec.fit(X_train_word2vec, y_train)\n",
    "\n",
    "# Print the best hyperparameters for SVM with Word2Vec\n",
    "print(\"\\nBest Hyperparameters for SVM (Word2Vec):\")\n",
    "print(svm_grid_word2vec.best_params_)\n",
    "\n",
    "# Make predictions on the test set using the best SVM model with Word2Vec\n",
    "svm_predictions_word2vec = svm_grid_word2vec.predict(X_test_word2vec)\n",
    "\n",
    "# Evaluate the SVM model with Word2Vec\n",
    "svm_accuracy_word2vec = accuracy_score(y_test, svm_predictions_word2vec)\n",
    "print(\"\\nSVM Accuracy (Word2Vec with hyperparameter tuning):\", svm_accuracy_word2vec)\n",
    "print(classification_report(y_test, svm_predictions_word2vec))"
   ]
  },
  {
   "cell_type": "markdown",
   "metadata": {},
   "source": [
    "# Naive Bayes Model"
   ]
  },
  {
   "cell_type": "markdown",
   "metadata": {},
   "source": [
    "TF-IDF Vectorizer"
   ]
  },
  {
   "cell_type": "code",
   "execution_count": 48,
   "metadata": {},
   "outputs": [
    {
     "name": "stdout",
     "output_type": "stream",
     "text": [
      "\n",
      "Naive Bayes Cross-Validation Scores: [0.64       0.61       0.64       0.65656566 0.67676768 0.6969697\n",
      " 0.66666667 0.67676768 0.70707071 0.60606061]\n",
      "Mean Accuracy: 0.6576868686868688\n",
      "\n",
      "Best Hyperparameters for Naive Bayes:\n",
      "{'alpha': 0.1}\n",
      "\n",
      "Naive Bayes Accuracy (with hyperparameter tuning): 0.678391959798995\n",
      "              precision    recall  f1-score   support\n",
      "\n",
      "           0       0.00      0.00      0.00         1\n",
      "           1       0.00      0.00      0.00         5\n",
      "           2       0.00      0.00      0.00         6\n",
      "           3       0.72      0.73      0.73        56\n",
      "           4       0.00      0.00      0.00         5\n",
      "           5       1.00      0.33      0.50         3\n",
      "           6       0.00      0.00      0.00         2\n",
      "           7       0.67      0.97      0.79        89\n",
      "           9       0.75      0.17      0.27        18\n",
      "          10       0.00      0.00      0.00         4\n",
      "          12       0.50      0.40      0.44        10\n",
      "\n",
      "    accuracy                           0.68       199\n",
      "   macro avg       0.33      0.24      0.25       199\n",
      "weighted avg       0.61      0.68      0.61       199\n",
      "\n"
     ]
    },
    {
     "name": "stderr",
     "output_type": "stream",
     "text": [
      "c:\\Users\\Uporabnik\\AppData\\Local\\Programs\\Python\\Python311\\Lib\\site-packages\\sklearn\\model_selection\\_split.py:737: UserWarning: The least populated class in y has only 2 members, which is less than n_splits=10.\n",
      "  warnings.warn(\n",
      "c:\\Users\\Uporabnik\\AppData\\Local\\Programs\\Python\\Python311\\Lib\\site-packages\\sklearn\\model_selection\\_split.py:737: UserWarning: The least populated class in y has only 2 members, which is less than n_splits=10.\n",
      "  warnings.warn(\n",
      "c:\\Users\\Uporabnik\\AppData\\Local\\Programs\\Python\\Python311\\Lib\\site-packages\\sklearn\\metrics\\_classification.py:1471: UndefinedMetricWarning: Precision and F-score are ill-defined and being set to 0.0 in labels with no predicted samples. Use `zero_division` parameter to control this behavior.\n",
      "  _warn_prf(average, modifier, msg_start, len(result))\n",
      "c:\\Users\\Uporabnik\\AppData\\Local\\Programs\\Python\\Python311\\Lib\\site-packages\\sklearn\\metrics\\_classification.py:1471: UndefinedMetricWarning: Precision and F-score are ill-defined and being set to 0.0 in labels with no predicted samples. Use `zero_division` parameter to control this behavior.\n",
      "  _warn_prf(average, modifier, msg_start, len(result))\n",
      "c:\\Users\\Uporabnik\\AppData\\Local\\Programs\\Python\\Python311\\Lib\\site-packages\\sklearn\\metrics\\_classification.py:1471: UndefinedMetricWarning: Precision and F-score are ill-defined and being set to 0.0 in labels with no predicted samples. Use `zero_division` parameter to control this behavior.\n",
      "  _warn_prf(average, modifier, msg_start, len(result))\n"
     ]
    }
   ],
   "source": [
    "from sklearn.naive_bayes import MultinomialNB\n",
    "\n",
    "# Naive Bayes model (Multinomial Naive Bayes)\n",
    "naive_bayes_model = MultinomialNB()\n",
    "\n",
    "# Cross-validation for Naive Bayes\n",
    "naive_bayes_cv_scores = cross_val_score(naive_bayes_model, X_tfidf, df['category_label'], cv=cv, scoring='accuracy')\n",
    "print(\"\\nNaive Bayes Cross-Validation Scores:\", naive_bayes_cv_scores)\n",
    "print(\"Mean Accuracy:\", naive_bayes_cv_scores.mean())\n",
    "\n",
    "# Hyperparameter tuning for Naive Bayes\n",
    "naive_bayes_params = {'alpha': [0.1, 0.5, 1.0, 2.0]}  # You can adjust the range of alpha\n",
    "\n",
    "naive_bayes_grid = GridSearchCV(naive_bayes_model, naive_bayes_params, cv=cv, scoring='accuracy')\n",
    "naive_bayes_grid.fit(X_train_tfidf, y_train)\n",
    "\n",
    "# Print the best hyperparameters for Naive Bayes\n",
    "print(\"\\nBest Hyperparameters for Naive Bayes:\")\n",
    "print(naive_bayes_grid.best_params_)\n",
    "\n",
    "# Make predictions on the test set using the best Naive Bayes model\n",
    "naive_bayes_predictions = naive_bayes_grid.predict(X_test_tfidf)\n",
    "\n",
    "# Evaluate the Naive Bayes model\n",
    "naive_bayes_accuracy = accuracy_score(y_test, naive_bayes_predictions)\n",
    "print(\"\\nNaive Bayes Accuracy (with hyperparameter tuning):\", naive_bayes_accuracy)\n",
    "print(classification_report(y_test, naive_bayes_predictions))\n"
   ]
  },
  {
   "cell_type": "markdown",
   "metadata": {},
   "source": [
    "Word2Vec Vectorizer"
   ]
  },
  {
   "cell_type": "code",
   "execution_count": 50,
   "metadata": {},
   "outputs": [
    {
     "name": "stdout",
     "output_type": "stream",
     "text": [
      "\n",
      "Naive Bayes (Word2Vec) Cross-Validation Scores: [0.0375     0.025      0.025      0.05       0.02531646 0.02531646\n",
      " 0.02531646 0.05063291 0.06329114 0.02531646]\n",
      "Mean Accuracy: 0.035268987341772154\n",
      "\n",
      "Naive Bayes Accuracy (Word2Vec): 0.04020100502512563\n",
      "              precision    recall  f1-score   support\n",
      "\n",
      "           0       0.01      1.00      0.03         1\n",
      "           1       0.03      0.20      0.05         5\n",
      "           2       0.00      0.00      0.00         6\n",
      "           3       0.00      0.00      0.00        56\n",
      "           4       0.12      0.20      0.15         5\n",
      "           5       1.00      0.33      0.50         3\n",
      "           6       0.02      0.50      0.03         2\n",
      "           7       0.38      0.03      0.06        89\n",
      "           9       0.00      0.00      0.00        18\n",
      "          10       0.00      0.00      0.00         4\n",
      "          12       0.00      0.00      0.00        10\n",
      "\n",
      "    accuracy                           0.04       199\n",
      "   macro avg       0.14      0.21      0.07       199\n",
      "weighted avg       0.19      0.04      0.04       199\n",
      "\n"
     ]
    },
    {
     "name": "stderr",
     "output_type": "stream",
     "text": [
      "c:\\Users\\Uporabnik\\AppData\\Local\\Programs\\Python\\Python311\\Lib\\site-packages\\sklearn\\model_selection\\_split.py:737: UserWarning: The least populated class in y has only 2 members, which is less than n_splits=10.\n",
      "  warnings.warn(\n",
      "c:\\Users\\Uporabnik\\AppData\\Local\\Programs\\Python\\Python311\\Lib\\site-packages\\sklearn\\metrics\\_classification.py:1471: UndefinedMetricWarning: Precision and F-score are ill-defined and being set to 0.0 in labels with no predicted samples. Use `zero_division` parameter to control this behavior.\n",
      "  _warn_prf(average, modifier, msg_start, len(result))\n",
      "c:\\Users\\Uporabnik\\AppData\\Local\\Programs\\Python\\Python311\\Lib\\site-packages\\sklearn\\metrics\\_classification.py:1471: UndefinedMetricWarning: Precision and F-score are ill-defined and being set to 0.0 in labels with no predicted samples. Use `zero_division` parameter to control this behavior.\n",
      "  _warn_prf(average, modifier, msg_start, len(result))\n",
      "c:\\Users\\Uporabnik\\AppData\\Local\\Programs\\Python\\Python311\\Lib\\site-packages\\sklearn\\metrics\\_classification.py:1471: UndefinedMetricWarning: Precision and F-score are ill-defined and being set to 0.0 in labels with no predicted samples. Use `zero_division` parameter to control this behavior.\n",
      "  _warn_prf(average, modifier, msg_start, len(result))\n"
     ]
    }
   ],
   "source": [
    "from sklearn.naive_bayes import GaussianNB\n",
    "\n",
    "# Naive Bayes model (Gaussian Naive Bayes) for Word2Vec\n",
    "# MultinominalNB model is designed for non-negative integer features, and Word2Vec vectors can contain negative values ->\n",
    "# That is why we are using GaussianNB model. \n",
    "naive_bayes_model_word2vec = GaussianNB()\n",
    "\n",
    "# Cross-validation for Naive Bayes with Word2Vec\n",
    "naive_bayes_cv_scores_word2vec = cross_val_score(naive_bayes_model_word2vec, X_train_word2vec, y_train, cv=cv, scoring='accuracy')\n",
    "print(\"\\nNaive Bayes (Word2Vec) Cross-Validation Scores:\", naive_bayes_cv_scores_word2vec)\n",
    "print(\"Mean Accuracy:\", naive_bayes_cv_scores_word2vec.mean())\n",
    "\n",
    "# No hyperparameter tuning is needed for Gaussian Naive Bayes\n",
    "\n",
    "# Fit the Naive Bayes model with Word2Vec to the training data\n",
    "naive_bayes_model_word2vec.fit(X_train_word2vec, y_train)\n",
    "\n",
    "# Make predictions on the test set\n",
    "naive_bayes_predictions_word2vec = naive_bayes_model_word2vec.predict(X_test_word2vec)\n",
    "\n",
    "# Evaluate the Naive Bayes model with Word2Vec\n",
    "naive_bayes_accuracy_word2vec = accuracy_score(y_test, naive_bayes_predictions_word2vec)\n",
    "print(\"\\nNaive Bayes Accuracy (Word2Vec):\", naive_bayes_accuracy_word2vec)\n",
    "print(classification_report(y_test, naive_bayes_predictions_word2vec))"
   ]
  },
  {
   "cell_type": "markdown",
   "metadata": {},
   "source": [
    "Very low accuracy because Gaussian Naive Bayes assumes that the features are normally distributed."
   ]
  },
  {
   "cell_type": "markdown",
   "metadata": {},
   "source": [
    "# Decision Tree Model"
   ]
  },
  {
   "cell_type": "markdown",
   "metadata": {},
   "source": [
    "TF-IDF Vectorizer"
   ]
  },
  {
   "cell_type": "code",
   "execution_count": 51,
   "metadata": {},
   "outputs": [
    {
     "name": "stderr",
     "output_type": "stream",
     "text": [
      "c:\\Users\\Uporabnik\\AppData\\Local\\Programs\\Python\\Python311\\Lib\\site-packages\\sklearn\\model_selection\\_split.py:737: UserWarning: The least populated class in y has only 2 members, which is less than n_splits=10.\n",
      "  warnings.warn(\n"
     ]
    },
    {
     "name": "stdout",
     "output_type": "stream",
     "text": [
      "\n",
      "Decision Tree Cross-Validation Scores: [0.56       0.6        0.61       0.60606061 0.55555556 0.60606061\n",
      " 0.64646465 0.56565657 0.5959596  0.46464646]\n",
      "Mean Accuracy: 0.581040404040404\n"
     ]
    },
    {
     "name": "stderr",
     "output_type": "stream",
     "text": [
      "c:\\Users\\Uporabnik\\AppData\\Local\\Programs\\Python\\Python311\\Lib\\site-packages\\sklearn\\model_selection\\_split.py:737: UserWarning: The least populated class in y has only 2 members, which is less than n_splits=10.\n",
      "  warnings.warn(\n"
     ]
    },
    {
     "name": "stdout",
     "output_type": "stream",
     "text": [
      "\n",
      "Best Hyperparameters for Decision Tree:\n",
      "{'max_depth': 20, 'min_samples_leaf': 1, 'min_samples_split': 10}\n",
      "\n",
      "Decision Tree Accuracy (with hyperparameter tuning): 0.5477386934673367\n",
      "              precision    recall  f1-score   support\n",
      "\n",
      "           0       0.00      0.00      0.00         1\n",
      "           1       0.00      0.00      0.00         5\n",
      "           2       0.00      0.00      0.00         6\n",
      "           3       0.62      0.46      0.53        56\n",
      "           4       0.20      0.20      0.20         5\n",
      "           5       0.75      1.00      0.86         3\n",
      "           6       0.00      0.00      0.00         2\n",
      "           7       0.56      0.85      0.68        89\n",
      "           9       0.50      0.11      0.18        18\n",
      "          10       0.00      0.00      0.00         4\n",
      "          12       0.33      0.10      0.15        10\n",
      "\n",
      "    accuracy                           0.55       199\n",
      "   macro avg       0.27      0.25      0.24       199\n",
      "weighted avg       0.50      0.55      0.49       199\n",
      "\n"
     ]
    },
    {
     "name": "stderr",
     "output_type": "stream",
     "text": [
      "c:\\Users\\Uporabnik\\AppData\\Local\\Programs\\Python\\Python311\\Lib\\site-packages\\sklearn\\metrics\\_classification.py:1471: UndefinedMetricWarning: Precision and F-score are ill-defined and being set to 0.0 in labels with no predicted samples. Use `zero_division` parameter to control this behavior.\n",
      "  _warn_prf(average, modifier, msg_start, len(result))\n",
      "c:\\Users\\Uporabnik\\AppData\\Local\\Programs\\Python\\Python311\\Lib\\site-packages\\sklearn\\metrics\\_classification.py:1471: UndefinedMetricWarning: Precision and F-score are ill-defined and being set to 0.0 in labels with no predicted samples. Use `zero_division` parameter to control this behavior.\n",
      "  _warn_prf(average, modifier, msg_start, len(result))\n",
      "c:\\Users\\Uporabnik\\AppData\\Local\\Programs\\Python\\Python311\\Lib\\site-packages\\sklearn\\metrics\\_classification.py:1471: UndefinedMetricWarning: Precision and F-score are ill-defined and being set to 0.0 in labels with no predicted samples. Use `zero_division` parameter to control this behavior.\n",
      "  _warn_prf(average, modifier, msg_start, len(result))\n"
     ]
    }
   ],
   "source": [
    "from sklearn.tree import DecisionTreeClassifier\n",
    "\n",
    "# Decision Tree model\n",
    "decision_tree_model = DecisionTreeClassifier(random_state=42)\n",
    "\n",
    "# Cross-validation for Decision Tree\n",
    "decision_tree_cv_scores = cross_val_score(decision_tree_model, X_tfidf, df['category_label'], cv=cv, scoring='accuracy')\n",
    "print(\"\\nDecision Tree Cross-Validation Scores:\", decision_tree_cv_scores)\n",
    "print(\"Mean Accuracy:\", decision_tree_cv_scores.mean())\n",
    "\n",
    "# Hyperparameter tuning for Decision Tree\n",
    "decision_tree_params = {'max_depth': [None, 10, 20, 30, 40], 'min_samples_split': [2, 5, 10], 'min_samples_leaf': [1, 2, 4]}\n",
    "\n",
    "decision_tree_grid = GridSearchCV(decision_tree_model, decision_tree_params, cv=cv, scoring='accuracy')\n",
    "decision_tree_grid.fit(X_train_tfidf, y_train)\n",
    "\n",
    "# Print the best hyperparameters for Decision Tree\n",
    "print(\"\\nBest Hyperparameters for Decision Tree:\")\n",
    "print(decision_tree_grid.best_params_)\n",
    "\n",
    "# Make predictions on the test set using the best Decision Tree model\n",
    "decision_tree_predictions = decision_tree_grid.predict(X_test_tfidf)\n",
    "\n",
    "# Evaluate the Decision Tree model\n",
    "decision_tree_accuracy = accuracy_score(y_test, decision_tree_predictions)\n",
    "print(\"\\nDecision Tree Accuracy (with hyperparameter tuning):\", decision_tree_accuracy)\n",
    "print(classification_report(y_test, decision_tree_predictions))\n"
   ]
  },
  {
   "cell_type": "markdown",
   "metadata": {},
   "source": [
    "Word2Vec Vectorizer"
   ]
  },
  {
   "cell_type": "code",
   "execution_count": 52,
   "metadata": {},
   "outputs": [
    {
     "name": "stderr",
     "output_type": "stream",
     "text": [
      "c:\\Users\\Uporabnik\\AppData\\Local\\Programs\\Python\\Python311\\Lib\\site-packages\\sklearn\\model_selection\\_split.py:737: UserWarning: The least populated class in y has only 2 members, which is less than n_splits=10.\n",
      "  warnings.warn(\n"
     ]
    },
    {
     "name": "stdout",
     "output_type": "stream",
     "text": [
      "\n",
      "Decision Tree (Word2Vec) Cross-Validation Scores: [0.4        0.325      0.3875     0.325      0.43037975 0.35443038\n",
      " 0.3164557  0.3164557  0.30379747 0.41772152]\n",
      "Mean Accuracy: 0.35767405063291136\n"
     ]
    },
    {
     "name": "stderr",
     "output_type": "stream",
     "text": [
      "c:\\Users\\Uporabnik\\AppData\\Local\\Programs\\Python\\Python311\\Lib\\site-packages\\sklearn\\model_selection\\_split.py:737: UserWarning: The least populated class in y has only 2 members, which is less than n_splits=10.\n",
      "  warnings.warn(\n"
     ]
    },
    {
     "name": "stdout",
     "output_type": "stream",
     "text": [
      "\n",
      "Best Hyperparameters for Decision Tree (Word2Vec):\n",
      "{'max_depth': 10, 'min_samples_leaf': 4, 'min_samples_split': 10}\n",
      "\n",
      "Decision Tree Accuracy (Word2Vec with hyperparameter tuning): 0.4120603015075377\n",
      "              precision    recall  f1-score   support\n",
      "\n",
      "           0       0.00      0.00      0.00         1\n",
      "           1       0.00      0.00      0.00         5\n",
      "           2       0.00      0.00      0.00         6\n",
      "           3       0.35      0.30      0.32        56\n",
      "           4       0.00      0.00      0.00         5\n",
      "           5       0.00      0.00      0.00         3\n",
      "           6       0.00      0.00      0.00         2\n",
      "           7       0.47      0.73      0.57        89\n",
      "           9       0.00      0.00      0.00        18\n",
      "          10       0.00      0.00      0.00         4\n",
      "          12       0.00      0.00      0.00        10\n",
      "\n",
      "    accuracy                           0.41       199\n",
      "   macro avg       0.07      0.09      0.08       199\n",
      "weighted avg       0.31      0.41      0.35       199\n",
      "\n"
     ]
    },
    {
     "name": "stderr",
     "output_type": "stream",
     "text": [
      "c:\\Users\\Uporabnik\\AppData\\Local\\Programs\\Python\\Python311\\Lib\\site-packages\\sklearn\\metrics\\_classification.py:1471: UndefinedMetricWarning: Precision and F-score are ill-defined and being set to 0.0 in labels with no predicted samples. Use `zero_division` parameter to control this behavior.\n",
      "  _warn_prf(average, modifier, msg_start, len(result))\n",
      "c:\\Users\\Uporabnik\\AppData\\Local\\Programs\\Python\\Python311\\Lib\\site-packages\\sklearn\\metrics\\_classification.py:1471: UndefinedMetricWarning: Precision and F-score are ill-defined and being set to 0.0 in labels with no predicted samples. Use `zero_division` parameter to control this behavior.\n",
      "  _warn_prf(average, modifier, msg_start, len(result))\n",
      "c:\\Users\\Uporabnik\\AppData\\Local\\Programs\\Python\\Python311\\Lib\\site-packages\\sklearn\\metrics\\_classification.py:1471: UndefinedMetricWarning: Precision and F-score are ill-defined and being set to 0.0 in labels with no predicted samples. Use `zero_division` parameter to control this behavior.\n",
      "  _warn_prf(average, modifier, msg_start, len(result))\n"
     ]
    }
   ],
   "source": [
    "# Decision Tree model\n",
    "decision_tree_model_word2vec = DecisionTreeClassifier(random_state=42)\n",
    "\n",
    "# Cross-validation for Decision Tree\n",
    "decision_tree_cv_scores_word2vec = cross_val_score(decision_tree_model_word2vec, X_train_word2vec, y_train, cv=cv, scoring='accuracy')\n",
    "print(\"\\nDecision Tree (Word2Vec) Cross-Validation Scores:\", decision_tree_cv_scores_word2vec)\n",
    "print(\"Mean Accuracy:\", decision_tree_cv_scores_word2vec.mean())\n",
    "\n",
    "# Hyperparameter tuning for Decision Tree\n",
    "decision_tree_params_word2vec = {'max_depth': [None, 10, 20, 30, 40], 'min_samples_split': [2, 5, 10], 'min_samples_leaf': [1, 2, 4]}\n",
    "\n",
    "decision_tree_grid_word2vec = GridSearchCV(decision_tree_model_word2vec, decision_tree_params_word2vec, cv=cv, scoring='accuracy')\n",
    "decision_tree_grid_word2vec.fit(X_train_word2vec, y_train)\n",
    "\n",
    "# Print the best hyperparameters for Decision Tree with Word2Vec\n",
    "print(\"\\nBest Hyperparameters for Decision Tree (Word2Vec):\")\n",
    "print(decision_tree_grid_word2vec.best_params_)\n",
    "\n",
    "# Make predictions on the test set using the best Decision Tree model with Word2Vec\n",
    "decision_tree_predictions_word2vec = decision_tree_grid_word2vec.predict(X_test_word2vec)\n",
    "\n",
    "# Evaluate the Decision Tree model with Word2Vec\n",
    "decision_tree_accuracy_word2vec = accuracy_score(y_test, decision_tree_predictions_word2vec)\n",
    "print(\"\\nDecision Tree Accuracy (Word2Vec with hyperparameter tuning):\", decision_tree_accuracy_word2vec)\n",
    "print(classification_report(y_test, decision_tree_predictions_word2vec))"
   ]
  },
  {
   "cell_type": "markdown",
   "metadata": {},
   "source": [
    "# Majority Classifier Model"
   ]
  },
  {
   "cell_type": "markdown",
   "metadata": {},
   "source": [
    "TF-IDF Vectorizer"
   ]
  },
  {
   "cell_type": "code",
   "execution_count": 53,
   "metadata": {},
   "outputs": [
    {
     "name": "stdout",
     "output_type": "stream",
     "text": [
      "\n",
      "Majority Classifier Cross-Validation Scores: [0.48       0.49       0.49       0.49494949 0.49494949 0.49494949\n",
      " 0.49494949 0.49494949 0.48484848 0.48484848]\n",
      "Mean Accuracy: 0.49044444444444435\n",
      "\n",
      "Majority Classifier Accuracy: 0.4472361809045226\n",
      "              precision    recall  f1-score   support\n",
      "\n",
      "           0       0.00      0.00      0.00         1\n",
      "           1       0.00      0.00      0.00         5\n",
      "           2       0.00      0.00      0.00         6\n",
      "           3       0.00      0.00      0.00        56\n",
      "           4       0.00      0.00      0.00         5\n",
      "           5       0.00      0.00      0.00         3\n",
      "           6       0.00      0.00      0.00         2\n",
      "           7       0.45      1.00      0.62        89\n",
      "           9       0.00      0.00      0.00        18\n",
      "          10       0.00      0.00      0.00         4\n",
      "          12       0.00      0.00      0.00        10\n",
      "\n",
      "    accuracy                           0.45       199\n",
      "   macro avg       0.04      0.09      0.06       199\n",
      "weighted avg       0.20      0.45      0.28       199\n",
      "\n"
     ]
    },
    {
     "name": "stderr",
     "output_type": "stream",
     "text": [
      "c:\\Users\\Uporabnik\\AppData\\Local\\Programs\\Python\\Python311\\Lib\\site-packages\\sklearn\\model_selection\\_split.py:737: UserWarning: The least populated class in y has only 2 members, which is less than n_splits=10.\n",
      "  warnings.warn(\n",
      "c:\\Users\\Uporabnik\\AppData\\Local\\Programs\\Python\\Python311\\Lib\\site-packages\\sklearn\\metrics\\_classification.py:1471: UndefinedMetricWarning: Precision and F-score are ill-defined and being set to 0.0 in labels with no predicted samples. Use `zero_division` parameter to control this behavior.\n",
      "  _warn_prf(average, modifier, msg_start, len(result))\n",
      "c:\\Users\\Uporabnik\\AppData\\Local\\Programs\\Python\\Python311\\Lib\\site-packages\\sklearn\\metrics\\_classification.py:1471: UndefinedMetricWarning: Precision and F-score are ill-defined and being set to 0.0 in labels with no predicted samples. Use `zero_division` parameter to control this behavior.\n",
      "  _warn_prf(average, modifier, msg_start, len(result))\n",
      "c:\\Users\\Uporabnik\\AppData\\Local\\Programs\\Python\\Python311\\Lib\\site-packages\\sklearn\\metrics\\_classification.py:1471: UndefinedMetricWarning: Precision and F-score are ill-defined and being set to 0.0 in labels with no predicted samples. Use `zero_division` parameter to control this behavior.\n",
      "  _warn_prf(average, modifier, msg_start, len(result))\n"
     ]
    }
   ],
   "source": [
    "from sklearn.dummy import DummyClassifier\n",
    "\n",
    "# Majority Classifier model\n",
    "majority_classifier_model = DummyClassifier(strategy='most_frequent')\n",
    "\n",
    "# Cross-validation for Majority Classifier\n",
    "majority_classifier_cv_scores = cross_val_score(majority_classifier_model, X_tfidf, df['category_label'], cv=cv, scoring='accuracy')\n",
    "print(\"\\nMajority Classifier Cross-Validation Scores:\", majority_classifier_cv_scores)\n",
    "print(\"Mean Accuracy:\", majority_classifier_cv_scores.mean())\n",
    "\n",
    "# Since there are no hyperparameters to tune, we don't need GridSearchCV for Majority Classifier\n",
    "\n",
    "# Fit the Majority Classifier model to the training data\n",
    "majority_classifier_model.fit(X_train_tfidf, y_train)\n",
    "\n",
    "# Make predictions on the test set\n",
    "majority_classifier_predictions = majority_classifier_model.predict(X_test_tfidf)\n",
    "\n",
    "# Evaluate the Majority Classifier model\n",
    "majority_classifier_accuracy = accuracy_score(y_test, majority_classifier_predictions)\n",
    "print(\"\\nMajority Classifier Accuracy:\", majority_classifier_accuracy)\n",
    "print(classification_report(y_test, majority_classifier_predictions))\n"
   ]
  },
  {
   "cell_type": "markdown",
   "metadata": {},
   "source": [
    "Word2Vec Vectorizer"
   ]
  },
  {
   "cell_type": "code",
   "execution_count": 54,
   "metadata": {},
   "outputs": [
    {
     "name": "stdout",
     "output_type": "stream",
     "text": [
      "\n",
      "Majority Classifier (Word2Vec) Cross-Validation Scores: [0.5        0.5        0.5        0.5        0.50632911 0.50632911\n",
      " 0.50632911 0.50632911 0.49367089 0.49367089]\n",
      "Mean Accuracy: 0.5012658227848101\n",
      "\n",
      "Majority Classifier (Word2Vec) Accuracy: 0.4472361809045226\n",
      "              precision    recall  f1-score   support\n",
      "\n",
      "           0       0.00      0.00      0.00         1\n",
      "           1       0.00      0.00      0.00         5\n",
      "           2       0.00      0.00      0.00         6\n",
      "           3       0.00      0.00      0.00        56\n",
      "           4       0.00      0.00      0.00         5\n",
      "           5       0.00      0.00      0.00         3\n",
      "           6       0.00      0.00      0.00         2\n",
      "           7       0.45      1.00      0.62        89\n",
      "           9       0.00      0.00      0.00        18\n",
      "          10       0.00      0.00      0.00         4\n",
      "          12       0.00      0.00      0.00        10\n",
      "\n",
      "    accuracy                           0.45       199\n",
      "   macro avg       0.04      0.09      0.06       199\n",
      "weighted avg       0.20      0.45      0.28       199\n",
      "\n"
     ]
    },
    {
     "name": "stderr",
     "output_type": "stream",
     "text": [
      "c:\\Users\\Uporabnik\\AppData\\Local\\Programs\\Python\\Python311\\Lib\\site-packages\\sklearn\\model_selection\\_split.py:737: UserWarning: The least populated class in y has only 2 members, which is less than n_splits=10.\n",
      "  warnings.warn(\n",
      "c:\\Users\\Uporabnik\\AppData\\Local\\Programs\\Python\\Python311\\Lib\\site-packages\\sklearn\\metrics\\_classification.py:1471: UndefinedMetricWarning: Precision and F-score are ill-defined and being set to 0.0 in labels with no predicted samples. Use `zero_division` parameter to control this behavior.\n",
      "  _warn_prf(average, modifier, msg_start, len(result))\n",
      "c:\\Users\\Uporabnik\\AppData\\Local\\Programs\\Python\\Python311\\Lib\\site-packages\\sklearn\\metrics\\_classification.py:1471: UndefinedMetricWarning: Precision and F-score are ill-defined and being set to 0.0 in labels with no predicted samples. Use `zero_division` parameter to control this behavior.\n",
      "  _warn_prf(average, modifier, msg_start, len(result))\n",
      "c:\\Users\\Uporabnik\\AppData\\Local\\Programs\\Python\\Python311\\Lib\\site-packages\\sklearn\\metrics\\_classification.py:1471: UndefinedMetricWarning: Precision and F-score are ill-defined and being set to 0.0 in labels with no predicted samples. Use `zero_division` parameter to control this behavior.\n",
      "  _warn_prf(average, modifier, msg_start, len(result))\n"
     ]
    }
   ],
   "source": [
    "# Majority Classifier model\n",
    "majority_classifier_model_word2vec = DummyClassifier(strategy='most_frequent')\n",
    "\n",
    "# Cross-validation for Majority Classifier\n",
    "majority_classifier_cv_scores_word2vec = cross_val_score(majority_classifier_model_word2vec, X_train_word2vec, y_train, cv=cv, scoring='accuracy')\n",
    "print(\"\\nMajority Classifier (Word2Vec) Cross-Validation Scores:\", majority_classifier_cv_scores_word2vec)\n",
    "print(\"Mean Accuracy:\", majority_classifier_cv_scores_word2vec.mean())\n",
    "\n",
    "# Fit the Majority Classifier model to the training data\n",
    "majority_classifier_model_word2vec.fit(X_train_word2vec, y_train)\n",
    "\n",
    "# Make predictions on the test set\n",
    "majority_classifier_predictions_word2vec = majority_classifier_model_word2vec.predict(X_test_word2vec)\n",
    "\n",
    "# Evaluate the Majority Classifier model with Word2Vec embeddings\n",
    "majority_classifier_accuracy_word2vec = accuracy_score(y_test, majority_classifier_predictions_word2vec)\n",
    "print(\"\\nMajority Classifier (Word2Vec) Accuracy:\", majority_classifier_accuracy_word2vec)\n",
    "print(classification_report(y_test, majority_classifier_predictions_word2vec))"
   ]
  },
  {
   "cell_type": "markdown",
   "metadata": {},
   "source": [
    "# Visualize results"
   ]
  },
  {
   "cell_type": "markdown",
   "metadata": {},
   "source": [
    "Comparison of models using TF-IDF Vectorizer"
   ]
  },
  {
   "cell_type": "code",
   "execution_count": 55,
   "metadata": {},
   "outputs": [
    {
     "data": {
      "image/png": "[encoded data removed]",
      "text/plain": [
       "<Figure size 640x480 with 1 Axes>"
      ]
     },
     "metadata": {},
     "output_type": "display_data"
    }
   ],
   "source": [
    "# Create a plot for the results\n",
    "from matplotlib import pyplot as plt\n",
    "\n",
    "\n",
    "results = [logistic_regression_accuracy, random_forest_accuracy, knn_accuracy,\n",
    "            svm_accuracy, naive_bayes_accuracy, decision_tree_accuracy, majority_classifier_accuracy]\n",
    "classifiers = ['Logistic Regression', 'Random Forest', 'K Nearest Neighbors',\n",
    "            'Support Vector Machines', 'Naive Bayes', 'Decision Trees', 'Majority Classifier']\n",
    "\n",
    "# Sort results and classifiers in ascending order of accuracy\n",
    "sorted_results, sorted_classifiers = zip(*sorted(zip(results, classifiers)))\n",
    "\n",
    "# Create a bar plot\n",
    "plt.barh(sorted_classifiers, sorted_results, color='skyblue')\n",
    "plt.xlabel('Accuracy')\n",
    "plt.title('Classifier Accuracy Comparison with TF-IDF Vectorizer (Low to High)')\n",
    "plt.xlim(0, 1.0)  # Set the x-axis limits from 0 to 1 for accuracy values\n",
    "\n",
    "# Annotate the bars with accuracy values\n",
    "for i, result in enumerate(sorted_results):\n",
    "    plt.text(result + 0.01, i, f'{result:.2f}', va='center', fontsize=12)\n",
    "\n",
    "plt.tight_layout()\n",
    "plt.show()"
   ]
  },
  {
   "cell_type": "markdown",
   "metadata": {},
   "source": [
    "Comparison of models using Word2Vec Vectorizer"
   ]
  },
  {
   "cell_type": "code",
   "execution_count": 56,
   "metadata": {},
   "outputs": [
    {
     "data": {
      "image/png": "[encoded data removed]",
      "text/plain": [
       "<Figure size 640x480 with 1 Axes>"
      ]
     },
     "metadata": {},
     "output_type": "display_data"
    }
   ],
   "source": [
    "# Create a plot for the results with Word2Vec vectorizer\n",
    "results_word2vec = [logistic_regression_accuracy_word2vec, random_forest_accuracy_word2vec, knn_accuracy_word2vec,\n",
    "                    svm_accuracy_word2vec, naive_bayes_accuracy_word2vec, decision_tree_accuracy_word2vec, majority_classifier_accuracy_word2vec]\n",
    "classifiers = ['Logistic Regression', 'Random Forest', 'K Nearest Neighbors',\n",
    "            'Support Vector Machines', 'Naive Bayes', 'Decision Trees', 'Majority Classifier']\n",
    "\n",
    "# Sort results and classifiers in ascending order of accuracy\n",
    "sorted_results_word2vec, sorted_classifiers = zip(*sorted(zip(results_word2vec, classifiers)))\n",
    "\n",
    "# Create a bar plot for Word2Vec vectorizer\n",
    "plt.barh(sorted_classifiers, sorted_results_word2vec, color='skyblue')\n",
    "plt.xlabel('Accuracy')\n",
    "plt.title('Classifier Accuracy Comparison with Word2Vec Vectorizer (Low to High)')\n",
    "plt.xlim(0, 1.0)  # Set the x-axis limits from 0 to 1 for accuracy values\n",
    "\n",
    "# Annotate the bars with accuracy values\n",
    "for i, result in enumerate(sorted_results_word2vec):\n",
    "    plt.text(result + 0.01, i, f'{result:.2f}', va='center', fontsize=12)\n",
    "\n",
    "plt.tight_layout()\n",
    "plt.show()"
   ]
  }
 ],
 "metadata": {
  "kernelspec": {
   "display_name": "Python 3",
   "language": "python",
   "name": "python3"
  },
  "language_info": {
   "codemirror_mode": {
    "name": "ipython",
    "version": 3
   },
   "file_extension": ".py",
   "mimetype": "text/x-python",
   "name": "python",
   "nbconvert_exporter": "python",
   "pygments_lexer": "ipython3",
   "version": "3.11.2"
  }
 },
 "nbformat": 4,
 "nbformat_minor": 2
}
