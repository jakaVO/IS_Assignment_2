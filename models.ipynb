{
 "cells": [
  {
   "cell_type": "code",
   "execution_count": 10,
   "metadata": {},
   "outputs": [],
   "source": [
    "import json\n",
    "import pandas as pd\n",
    "from sklearn.model_selection import train_test_split\n",
    "from sklearn.feature_extraction.text import TfidfVectorizer\n",
    "from sklearn.linear_model import LogisticRegression\n",
    "from sklearn.ensemble import RandomForestClassifier\n",
    "from sklearn.metrics import accuracy_score, classification_report\n",
    "from sklearn.model_selection import cross_val_score, StratifiedKFold\n",
    "from sklearn.model_selection import GridSearchCV"
   ]
  },
  {
   "cell_type": "markdown",
   "metadata": {},
   "source": [
    "# Import data"
   ]
  },
  {
   "cell_type": "code",
   "execution_count": 11,
   "metadata": {},
   "outputs": [],
   "source": [
    "# Specify the path to your JSON file\n",
    "json_file_path = 'News_Category_Dataset_IS_course.json'\n",
    "\n",
    "# Load only the first 1000 lines from the JSON file\n",
    "with open(json_file_path, 'r') as file:\n",
    "    data = [json.loads(line) for line in file.readlines()[:1000]]\n",
    "\n",
    "# Create a DataFrame from the data\n",
    "df = pd.DataFrame(data)\n",
    "\n",
    "# Drop rows with missing short_description\n",
    "df = df.dropna(subset=['short_description'])\n",
    "\n",
    "# Encode categories into numerical labels\n",
    "df['category_label'] = pd.Categorical(df['category']).codes\n",
    "\n",
    "# Select relevant columns\n",
    "df = df[['short_description', 'category_label']]\n",
    "\n",
    "# Split the data into training and testing sets\n",
    "X_train, X_test, y_train, y_test = train_test_split(df['short_description'], df['category_label'], test_size=0.2, random_state=42)\n",
    "\n",
    "# Convert text data to numerical features using TF-IDF\n",
    "vectorizer = TfidfVectorizer(max_features=1000)\n",
    "X_train_tfidf = vectorizer.fit_transform(X_train)\n",
    "X_test_tfidf = vectorizer.transform(X_test)\n",
    "\n",
    "# Define cross-validation strategy (StratifiedKFold is suitable for classification tasks)\n",
    "cv = StratifiedKFold(n_splits=10, shuffle=True, random_state=42)\n",
    "\n",
    "# Transform the entire dataset\n",
    "X_tfidf = vectorizer.fit_transform(df['short_description'])"
   ]
  },
  {
   "cell_type": "markdown",
   "metadata": {},
   "source": [
    "# Logistic Regression Model"
   ]
  },
  {
   "cell_type": "code",
   "execution_count": 12,
   "metadata": {},
   "outputs": [
    {
     "name": "stderr",
     "output_type": "stream",
     "text": [
      "c:\\Users\\Uporabnik\\AppData\\Local\\Programs\\Python\\Python311\\Lib\\site-packages\\sklearn\\model_selection\\_split.py:737: UserWarning: The least populated class in y has only 2 members, which is less than n_splits=10.\n",
      "  warnings.warn(\n"
     ]
    },
    {
     "name": "stdout",
     "output_type": "stream",
     "text": [
      "Logistic Regression Cross-Validation Scores: [0.66       0.66       0.69       0.68686869 0.68686869 0.67676768\n",
      " 0.65656566 0.67676768 0.6969697  0.5959596 ]\n",
      "Mean Accuracy: 0.6686767676767678\n"
     ]
    },
    {
     "name": "stderr",
     "output_type": "stream",
     "text": [
      "c:\\Users\\Uporabnik\\AppData\\Local\\Programs\\Python\\Python311\\Lib\\site-packages\\sklearn\\model_selection\\_split.py:737: UserWarning: The least populated class in y has only 2 members, which is less than n_splits=5.\n",
      "  warnings.warn(\n"
     ]
    },
    {
     "name": "stdout",
     "output_type": "stream",
     "text": [
      "Best Hyperparameters for Logistic Regression:\n",
      "{'C': 100}\n",
      "\n",
      "Logistic Regression Accuracy (with hyperparameter tuning): 0.7085427135678392\n",
      "              precision    recall  f1-score   support\n",
      "\n",
      "           0       0.00      0.00      0.00         1\n",
      "           1       0.00      0.00      0.00         5\n",
      "           2       0.50      0.17      0.25         6\n",
      "           3       0.71      0.84      0.77        56\n",
      "           4       0.00      0.00      0.00         5\n",
      "           5       1.00      0.33      0.50         3\n",
      "           6       0.00      0.00      0.00         2\n",
      "           7       0.73      0.92      0.82        89\n",
      "           9       0.75      0.33      0.46        18\n",
      "          10       0.00      0.00      0.00         4\n",
      "          12       0.57      0.40      0.47        10\n",
      "\n",
      "    accuracy                           0.71       199\n",
      "   macro avg       0.39      0.27      0.30       199\n",
      "weighted avg       0.65      0.71      0.66       199\n",
      "\n"
     ]
    },
    {
     "name": "stderr",
     "output_type": "stream",
     "text": [
      "c:\\Users\\Uporabnik\\AppData\\Local\\Programs\\Python\\Python311\\Lib\\site-packages\\sklearn\\metrics\\_classification.py:1471: UndefinedMetricWarning: Precision and F-score are ill-defined and being set to 0.0 in labels with no predicted samples. Use `zero_division` parameter to control this behavior.\n",
      "  _warn_prf(average, modifier, msg_start, len(result))\n",
      "c:\\Users\\Uporabnik\\AppData\\Local\\Programs\\Python\\Python311\\Lib\\site-packages\\sklearn\\metrics\\_classification.py:1471: UndefinedMetricWarning: Precision and F-score are ill-defined and being set to 0.0 in labels with no predicted samples. Use `zero_division` parameter to control this behavior.\n",
      "  _warn_prf(average, modifier, msg_start, len(result))\n",
      "c:\\Users\\Uporabnik\\AppData\\Local\\Programs\\Python\\Python311\\Lib\\site-packages\\sklearn\\metrics\\_classification.py:1471: UndefinedMetricWarning: Precision and F-score are ill-defined and being set to 0.0 in labels with no predicted samples. Use `zero_division` parameter to control this behavior.\n",
      "  _warn_prf(average, modifier, msg_start, len(result))\n"
     ]
    }
   ],
   "source": [
    "# Logistic Regression model\n",
    "logistic_regression_model = LogisticRegression(max_iter=1000)\n",
    "\n",
    "# Cross-validation for Logistic Regression\n",
    "logistic_regression_cv_scores = cross_val_score(logistic_regression_model, X_tfidf, df['category_label'], cv=cv, scoring='accuracy')\n",
    "print(\"Logistic Regression Cross-Validation Scores:\", logistic_regression_cv_scores)\n",
    "print(\"Mean Accuracy:\", logistic_regression_cv_scores.mean())\n",
    "\n",
    "# Hyperparameter tuning for Logistic Regression\n",
    "logistic_regression_params = {'C': [0.001, 0.01, 0.1, 1, 10, 100, 1000]}\n",
    "\n",
    "logistic_regression_model = LogisticRegression(max_iter=1000)\n",
    "logistic_regression_grid = GridSearchCV(logistic_regression_model, logistic_regression_params, cv=5, scoring='accuracy')\n",
    "logistic_regression_grid.fit(X_train_tfidf, y_train)\n",
    "\n",
    "# Print the best hyperparameters for Logistic Regression\n",
    "print(\"Best Hyperparameters for Logistic Regression:\")\n",
    "print(logistic_regression_grid.best_params_)\n",
    "\n",
    "# Make predictions on the test set using the best Logistic Regression model\n",
    "logistic_regression_predictions = logistic_regression_grid.predict(X_test_tfidf)\n",
    "\n",
    "# Evaluate the Logistic Regression model\n",
    "logistic_regression_accuracy = accuracy_score(y_test, logistic_regression_predictions)\n",
    "print(\"\\nLogistic Regression Accuracy (with hyperparameter tuning):\", logistic_regression_accuracy)\n",
    "print(classification_report(y_test, logistic_regression_predictions))\n"
   ]
  },
  {
   "cell_type": "markdown",
   "metadata": {},
   "source": [
    "# Random Forest Model"
   ]
  },
  {
   "cell_type": "code",
   "execution_count": 15,
   "metadata": {},
   "outputs": [
    {
     "name": "stderr",
     "output_type": "stream",
     "text": [
      "c:\\Users\\Uporabnik\\AppData\\Local\\Programs\\Python\\Python311\\Lib\\site-packages\\sklearn\\model_selection\\_split.py:737: UserWarning: The least populated class in y has only 2 members, which is less than n_splits=10.\n",
      "  warnings.warn(\n"
     ]
    },
    {
     "name": "stdout",
     "output_type": "stream",
     "text": [
      "\n",
      "Random Forest Cross-Validation Scores: [0.65       0.65       0.71       0.67676768 0.66666667 0.6969697\n",
      " 0.64646465 0.72727273 0.65656566 0.60606061]\n",
      "Mean Accuracy: 0.6686767676767678\n"
     ]
    },
    {
     "name": "stderr",
     "output_type": "stream",
     "text": [
      "c:\\Users\\Uporabnik\\AppData\\Local\\Programs\\Python\\Python311\\Lib\\site-packages\\sklearn\\model_selection\\_split.py:737: UserWarning: The least populated class in y has only 2 members, which is less than n_splits=10.\n",
      "  warnings.warn(\n"
     ]
    },
    {
     "name": "stdout",
     "output_type": "stream",
     "text": [
      "\n",
      "Best Hyperparameters for Random Forest:\n",
      "{'max_depth': 50, 'n_estimators': 150}\n",
      "\n",
      "Random Forest Accuracy (with hyperparameter tuning): 0.5879396984924623\n",
      "              precision    recall  f1-score   support\n",
      "\n",
      "           0       0.00      0.00      0.00         1\n",
      "           1       0.00      0.00      0.00         5\n",
      "           2       0.00      0.00      0.00         6\n",
      "           3       0.63      0.57      0.60        56\n",
      "           4       0.00      0.00      0.00         5\n",
      "           5       1.00      0.33      0.50         3\n",
      "           6       0.00      0.00      0.00         2\n",
      "           7       0.58      0.93      0.72        89\n",
      "           9       0.00      0.00      0.00        18\n",
      "          10       0.00      0.00      0.00         4\n",
      "          12       0.25      0.10      0.14        10\n",
      "\n",
      "    accuracy                           0.59       199\n",
      "   macro avg       0.22      0.18      0.18       199\n",
      "weighted avg       0.47      0.59      0.50       199\n",
      "\n"
     ]
    },
    {
     "name": "stderr",
     "output_type": "stream",
     "text": [
      "c:\\Users\\Uporabnik\\AppData\\Local\\Programs\\Python\\Python311\\Lib\\site-packages\\sklearn\\metrics\\_classification.py:1471: UndefinedMetricWarning: Precision and F-score are ill-defined and being set to 0.0 in labels with no predicted samples. Use `zero_division` parameter to control this behavior.\n",
      "  _warn_prf(average, modifier, msg_start, len(result))\n",
      "c:\\Users\\Uporabnik\\AppData\\Local\\Programs\\Python\\Python311\\Lib\\site-packages\\sklearn\\metrics\\_classification.py:1471: UndefinedMetricWarning: Precision and F-score are ill-defined and being set to 0.0 in labels with no predicted samples. Use `zero_division` parameter to control this behavior.\n",
      "  _warn_prf(average, modifier, msg_start, len(result))\n",
      "c:\\Users\\Uporabnik\\AppData\\Local\\Programs\\Python\\Python311\\Lib\\site-packages\\sklearn\\metrics\\_classification.py:1471: UndefinedMetricWarning: Precision and F-score are ill-defined and being set to 0.0 in labels with no predicted samples. Use `zero_division` parameter to control this behavior.\n",
      "  _warn_prf(average, modifier, msg_start, len(result))\n"
     ]
    }
   ],
   "source": [
    "# Random Forest model\n",
    "random_forest_model = RandomForestClassifier(n_estimators=100, random_state=42)\n",
    "\n",
    "# Cross-validation for Random Forest\n",
    "random_forest_cv_scores = cross_val_score(random_forest_model, X_tfidf, df['category_label'], cv=cv, scoring='accuracy')\n",
    "print(\"\\nRandom Forest Cross-Validation Scores:\", random_forest_cv_scores)\n",
    "print(\"Mean Accuracy:\", random_forest_cv_scores.mean())\n",
    "\n",
    "# Hyperparameter tuning for Random Forest\n",
    "random_forest_params = {'n_estimators': [100, 150, 200], 'max_depth': [20, 30, 40, 50]}\n",
    "\n",
    "random_forest_model = RandomForestClassifier(random_state=42)\n",
    "random_forest_grid = GridSearchCV(random_forest_model, random_forest_params, cv=cv, scoring='accuracy')\n",
    "random_forest_grid.fit(X_train_tfidf, y_train)\n",
    "\n",
    "# Print the best hyperparameters for Random Forest\n",
    "print(\"\\nBest Hyperparameters for Random Forest:\")\n",
    "print(random_forest_grid.best_params_)\n",
    "\n",
    "# Make predictions on the test set using the best Random Forest model\n",
    "random_forest_predictions = random_forest_grid.predict(X_test_tfidf)\n",
    "\n",
    "# Evaluate the Random Forest model\n",
    "random_forest_accuracy = accuracy_score(y_test, random_forest_predictions)\n",
    "print(\"\\nRandom Forest Accuracy (with hyperparameter tuning):\", random_forest_accuracy)\n",
    "print(classification_report(y_test, random_forest_predictions))"
   ]
  },
  {
   "cell_type": "markdown",
   "metadata": {},
   "source": [
    "# KNN Model"
   ]
  },
  {
   "cell_type": "code",
   "execution_count": 17,
   "metadata": {},
   "outputs": [
    {
     "name": "stderr",
     "output_type": "stream",
     "text": [
      "c:\\Users\\Uporabnik\\AppData\\Local\\Programs\\Python\\Python311\\Lib\\site-packages\\sklearn\\model_selection\\_split.py:737: UserWarning: The least populated class in y has only 2 members, which is less than n_splits=10.\n",
      "  warnings.warn(\n"
     ]
    },
    {
     "name": "stdout",
     "output_type": "stream",
     "text": [
      "\n",
      "KNN Cross-Validation Scores: [0.67       0.63       0.68       0.66666667 0.67676768 0.68686869\n",
      " 0.68686869 0.65656566 0.67676768 0.64646465]\n",
      "Mean Accuracy: 0.6676969696969697\n"
     ]
    },
    {
     "name": "stderr",
     "output_type": "stream",
     "text": [
      "c:\\Users\\Uporabnik\\AppData\\Local\\Programs\\Python\\Python311\\Lib\\site-packages\\sklearn\\model_selection\\_split.py:737: UserWarning: The least populated class in y has only 2 members, which is less than n_splits=10.\n",
      "  warnings.warn(\n"
     ]
    },
    {
     "name": "stdout",
     "output_type": "stream",
     "text": [
      "\n",
      "Best Hyperparameters for KNN:\n",
      "{'n_neighbors': 10}\n",
      "\n",
      "KNN Accuracy (with hyperparameter tuning): 0.6482412060301508\n",
      "              precision    recall  f1-score   support\n",
      "\n",
      "           0       0.00      0.00      0.00         1\n",
      "           1       0.00      0.00      0.00         5\n",
      "           2       0.00      0.00      0.00         6\n",
      "           3       0.63      0.80      0.71        56\n",
      "           4       0.00      0.00      0.00         5\n",
      "           5       0.00      0.00      0.00         3\n",
      "           6       0.00      0.00      0.00         2\n",
      "           7       0.69      0.85      0.76        89\n",
      "           9       0.62      0.28      0.38        18\n",
      "          10       0.33      0.25      0.29         4\n",
      "          12       0.50      0.20      0.29        10\n",
      "\n",
      "    accuracy                           0.65       199\n",
      "   macro avg       0.25      0.22      0.22       199\n",
      "weighted avg       0.58      0.65      0.60       199\n",
      "\n"
     ]
    },
    {
     "name": "stderr",
     "output_type": "stream",
     "text": [
      "c:\\Users\\Uporabnik\\AppData\\Local\\Programs\\Python\\Python311\\Lib\\site-packages\\sklearn\\metrics\\_classification.py:1471: UndefinedMetricWarning: Precision and F-score are ill-defined and being set to 0.0 in labels with no predicted samples. Use `zero_division` parameter to control this behavior.\n",
      "  _warn_prf(average, modifier, msg_start, len(result))\n",
      "c:\\Users\\Uporabnik\\AppData\\Local\\Programs\\Python\\Python311\\Lib\\site-packages\\sklearn\\metrics\\_classification.py:1471: UndefinedMetricWarning: Precision and F-score are ill-defined and being set to 0.0 in labels with no predicted samples. Use `zero_division` parameter to control this behavior.\n",
      "  _warn_prf(average, modifier, msg_start, len(result))\n",
      "c:\\Users\\Uporabnik\\AppData\\Local\\Programs\\Python\\Python311\\Lib\\site-packages\\sklearn\\metrics\\_classification.py:1471: UndefinedMetricWarning: Precision and F-score are ill-defined and being set to 0.0 in labels with no predicted samples. Use `zero_division` parameter to control this behavior.\n",
      "  _warn_prf(average, modifier, msg_start, len(result))\n"
     ]
    }
   ],
   "source": [
    "from sklearn.neighbors import KNeighborsClassifier\n",
    "\n",
    "# KNN model\n",
    "knn_model = KNeighborsClassifier(n_neighbors=5)  # You can adjust the number of neighbors\n",
    "\n",
    "# Cross-validation for KNN\n",
    "knn_cv_scores = cross_val_score(knn_model, X_tfidf, df['category_label'], cv=cv, scoring='accuracy')\n",
    "print(\"\\nKNN Cross-Validation Scores:\", knn_cv_scores)\n",
    "print(\"Mean Accuracy:\", knn_cv_scores.mean())\n",
    "\n",
    "# Hyperparameter tuning for KNN\n",
    "knn_params = {'n_neighbors': range(1, 11)}\n",
    "\n",
    "knn_grid = GridSearchCV(knn_model, knn_params, cv=cv, scoring='accuracy')\n",
    "knn_grid.fit(X_train_tfidf, y_train)\n",
    "\n",
    "# Print the best hyperparameters for KNN\n",
    "print(\"\\nBest Hyperparameters for KNN:\")\n",
    "print(knn_grid.best_params_)\n",
    "\n",
    "# Make predictions on the test set using the best KNN model\n",
    "knn_predictions = knn_grid.predict(X_test_tfidf)\n",
    "\n",
    "# Evaluate the KNN model\n",
    "knn_accuracy = accuracy_score(y_test, knn_predictions)\n",
    "print(\"\\nKNN Accuracy (with hyperparameter tuning):\", knn_accuracy)\n",
    "print(classification_report(y_test, knn_predictions))\n"
   ]
  },
  {
   "cell_type": "markdown",
   "metadata": {},
   "source": [
    "# SVM Model"
   ]
  },
  {
   "cell_type": "code",
   "execution_count": 19,
   "metadata": {},
   "outputs": [
    {
     "name": "stderr",
     "output_type": "stream",
     "text": [
      "c:\\Users\\Uporabnik\\AppData\\Local\\Programs\\Python\\Python311\\Lib\\site-packages\\sklearn\\model_selection\\_split.py:737: UserWarning: The least populated class in y has only 2 members, which is less than n_splits=10.\n",
      "  warnings.warn(\n"
     ]
    },
    {
     "name": "stdout",
     "output_type": "stream",
     "text": [
      "\n",
      "SVM Cross-Validation Scores: [0.73       0.68       0.72       0.6969697  0.70707071 0.72727273\n",
      " 0.66666667 0.74747475 0.72727273 0.62626263]\n",
      "Mean Accuracy: 0.7028989898989899\n"
     ]
    },
    {
     "name": "stderr",
     "output_type": "stream",
     "text": [
      "c:\\Users\\Uporabnik\\AppData\\Local\\Programs\\Python\\Python311\\Lib\\site-packages\\sklearn\\model_selection\\_split.py:737: UserWarning: The least populated class in y has only 2 members, which is less than n_splits=10.\n",
      "  warnings.warn(\n"
     ]
    },
    {
     "name": "stdout",
     "output_type": "stream",
     "text": [
      "\n",
      "Best Hyperparameters for SVM:\n",
      "{'C': 1, 'kernel': 'linear'}\n",
      "\n",
      "SVM Accuracy (with hyperparameter tuning): 0.6934673366834171\n",
      "              precision    recall  f1-score   support\n",
      "\n",
      "           0       0.00      0.00      0.00         1\n",
      "           1       0.00      0.00      0.00         5\n",
      "           2       0.00      0.00      0.00         6\n",
      "           3       0.71      0.75      0.73        56\n",
      "           4       0.00      0.00      0.00         5\n",
      "           5       1.00      0.33      0.50         3\n",
      "           6       0.00      0.00      0.00         2\n",
      "           7       0.68      0.96      0.79        89\n",
      "           9       0.83      0.28      0.42        18\n",
      "          10       0.00      0.00      0.00         4\n",
      "          12       0.62      0.50      0.56        10\n",
      "\n",
      "    accuracy                           0.69       199\n",
      "   macro avg       0.35      0.26      0.27       199\n",
      "weighted avg       0.63      0.69      0.63       199\n",
      "\n"
     ]
    },
    {
     "name": "stderr",
     "output_type": "stream",
     "text": [
      "c:\\Users\\Uporabnik\\AppData\\Local\\Programs\\Python\\Python311\\Lib\\site-packages\\sklearn\\metrics\\_classification.py:1471: UndefinedMetricWarning: Precision and F-score are ill-defined and being set to 0.0 in labels with no predicted samples. Use `zero_division` parameter to control this behavior.\n",
      "  _warn_prf(average, modifier, msg_start, len(result))\n",
      "c:\\Users\\Uporabnik\\AppData\\Local\\Programs\\Python\\Python311\\Lib\\site-packages\\sklearn\\metrics\\_classification.py:1471: UndefinedMetricWarning: Precision and F-score are ill-defined and being set to 0.0 in labels with no predicted samples. Use `zero_division` parameter to control this behavior.\n",
      "  _warn_prf(average, modifier, msg_start, len(result))\n",
      "c:\\Users\\Uporabnik\\AppData\\Local\\Programs\\Python\\Python311\\Lib\\site-packages\\sklearn\\metrics\\_classification.py:1471: UndefinedMetricWarning: Precision and F-score are ill-defined and being set to 0.0 in labels with no predicted samples. Use `zero_division` parameter to control this behavior.\n",
      "  _warn_prf(average, modifier, msg_start, len(result))\n"
     ]
    }
   ],
   "source": [
    "from sklearn.svm import SVC\n",
    "\n",
    "# SVM model\n",
    "svm_model = SVC(kernel='linear')  # You can adjust the kernel and other parameters\n",
    "\n",
    "# Cross-validation for SVM\n",
    "svm_cv_scores = cross_val_score(svm_model, X_tfidf, df['category_label'], cv=cv, scoring='accuracy')\n",
    "print(\"\\nSVM Cross-Validation Scores:\", svm_cv_scores)\n",
    "print(\"Mean Accuracy:\", svm_cv_scores.mean())\n",
    "\n",
    "# Hyperparameter tuning for SVM\n",
    "svm_params = {'C': [0.1, 1, 10, 100], 'kernel': ['linear', 'rbf']}  # You can adjust the range of C and kernel\n",
    "\n",
    "svm_grid = GridSearchCV(svm_model, svm_params, cv=cv, scoring='accuracy')\n",
    "svm_grid.fit(X_train_tfidf, y_train)\n",
    "\n",
    "# Print the best hyperparameters for SVM\n",
    "print(\"\\nBest Hyperparameters for SVM:\")\n",
    "print(svm_grid.best_params_)\n",
    "\n",
    "# Make predictions on the test set using the best SVM model\n",
    "svm_predictions = svm_grid.predict(X_test_tfidf)\n",
    "\n",
    "# Evaluate the SVM model\n",
    "svm_accuracy = accuracy_score(y_test, svm_predictions)\n",
    "print(\"\\nSVM Accuracy (with hyperparameter tuning):\", svm_accuracy)\n",
    "print(classification_report(y_test, svm_predictions))\n"
   ]
  },
  {
   "cell_type": "markdown",
   "metadata": {},
   "source": [
    "# Naive Bayes Model"
   ]
  },
  {
   "cell_type": "code",
   "execution_count": 22,
   "metadata": {},
   "outputs": [
    {
     "name": "stdout",
     "output_type": "stream",
     "text": [
      "\n",
      "Naive Bayes Cross-Validation Scores: [0.64       0.61       0.64       0.65656566 0.67676768 0.6969697\n",
      " 0.66666667 0.67676768 0.70707071 0.60606061]\n",
      "Mean Accuracy: 0.6576868686868688\n",
      "\n",
      "Best Hyperparameters for Naive Bayes:\n",
      "{'alpha': 0.1}\n",
      "\n",
      "Naive Bayes Accuracy (with hyperparameter tuning): 0.678391959798995\n",
      "              precision    recall  f1-score   support\n",
      "\n",
      "           0       0.00      0.00      0.00         1\n",
      "           1       0.00      0.00      0.00         5\n",
      "           2       0.00      0.00      0.00         6\n",
      "           3       0.72      0.73      0.73        56\n",
      "           4       0.00      0.00      0.00         5\n",
      "           5       1.00      0.33      0.50         3\n",
      "           6       0.00      0.00      0.00         2\n",
      "           7       0.67      0.97      0.79        89\n",
      "           9       0.75      0.17      0.27        18\n",
      "          10       0.00      0.00      0.00         4\n",
      "          12       0.50      0.40      0.44        10\n",
      "\n",
      "    accuracy                           0.68       199\n",
      "   macro avg       0.33      0.24      0.25       199\n",
      "weighted avg       0.61      0.68      0.61       199\n",
      "\n"
     ]
    },
    {
     "name": "stderr",
     "output_type": "stream",
     "text": [
      "c:\\Users\\Uporabnik\\AppData\\Local\\Programs\\Python\\Python311\\Lib\\site-packages\\sklearn\\model_selection\\_split.py:737: UserWarning: The least populated class in y has only 2 members, which is less than n_splits=10.\n",
      "  warnings.warn(\n",
      "c:\\Users\\Uporabnik\\AppData\\Local\\Programs\\Python\\Python311\\Lib\\site-packages\\sklearn\\model_selection\\_split.py:737: UserWarning: The least populated class in y has only 2 members, which is less than n_splits=10.\n",
      "  warnings.warn(\n",
      "c:\\Users\\Uporabnik\\AppData\\Local\\Programs\\Python\\Python311\\Lib\\site-packages\\sklearn\\metrics\\_classification.py:1471: UndefinedMetricWarning: Precision and F-score are ill-defined and being set to 0.0 in labels with no predicted samples. Use `zero_division` parameter to control this behavior.\n",
      "  _warn_prf(average, modifier, msg_start, len(result))\n",
      "c:\\Users\\Uporabnik\\AppData\\Local\\Programs\\Python\\Python311\\Lib\\site-packages\\sklearn\\metrics\\_classification.py:1471: UndefinedMetricWarning: Precision and F-score are ill-defined and being set to 0.0 in labels with no predicted samples. Use `zero_division` parameter to control this behavior.\n",
      "  _warn_prf(average, modifier, msg_start, len(result))\n",
      "c:\\Users\\Uporabnik\\AppData\\Local\\Programs\\Python\\Python311\\Lib\\site-packages\\sklearn\\metrics\\_classification.py:1471: UndefinedMetricWarning: Precision and F-score are ill-defined and being set to 0.0 in labels with no predicted samples. Use `zero_division` parameter to control this behavior.\n",
      "  _warn_prf(average, modifier, msg_start, len(result))\n"
     ]
    }
   ],
   "source": [
    "from sklearn.naive_bayes import MultinomialNB\n",
    "\n",
    "# Naive Bayes model (Multinomial Naive Bayes)\n",
    "naive_bayes_model = MultinomialNB()\n",
    "\n",
    "# Cross-validation for Naive Bayes\n",
    "naive_bayes_cv_scores = cross_val_score(naive_bayes_model, X_tfidf, df['category_label'], cv=cv, scoring='accuracy')\n",
    "print(\"\\nNaive Bayes Cross-Validation Scores:\", naive_bayes_cv_scores)\n",
    "print(\"Mean Accuracy:\", naive_bayes_cv_scores.mean())\n",
    "\n",
    "# Hyperparameter tuning for Naive Bayes\n",
    "naive_bayes_params = {'alpha': [0.1, 0.5, 1.0, 2.0]}  # You can adjust the range of alpha\n",
    "\n",
    "naive_bayes_grid = GridSearchCV(naive_bayes_model, naive_bayes_params, cv=cv, scoring='accuracy')\n",
    "naive_bayes_grid.fit(X_train_tfidf, y_train)\n",
    "\n",
    "# Print the best hyperparameters for Naive Bayes\n",
    "print(\"\\nBest Hyperparameters for Naive Bayes:\")\n",
    "print(naive_bayes_grid.best_params_)\n",
    "\n",
    "# Make predictions on the test set using the best Naive Bayes model\n",
    "naive_bayes_predictions = naive_bayes_grid.predict(X_test_tfidf)\n",
    "\n",
    "# Evaluate the Naive Bayes model\n",
    "naive_bayes_accuracy = accuracy_score(y_test, naive_bayes_predictions)\n",
    "print(\"\\nNaive Bayes Accuracy (with hyperparameter tuning):\", naive_bayes_accuracy)\n",
    "print(classification_report(y_test, naive_bayes_predictions))\n"
   ]
  },
  {
   "cell_type": "markdown",
   "metadata": {},
   "source": [
    "# Decision Tree Model"
   ]
  },
  {
   "cell_type": "code",
   "execution_count": 25,
   "metadata": {},
   "outputs": [
    {
     "name": "stderr",
     "output_type": "stream",
     "text": [
      "c:\\Users\\Uporabnik\\AppData\\Local\\Programs\\Python\\Python311\\Lib\\site-packages\\sklearn\\model_selection\\_split.py:737: UserWarning: The least populated class in y has only 2 members, which is less than n_splits=10.\n",
      "  warnings.warn(\n"
     ]
    },
    {
     "name": "stdout",
     "output_type": "stream",
     "text": [
      "\n",
      "Decision Tree Cross-Validation Scores: [0.56       0.6        0.61       0.60606061 0.55555556 0.60606061\n",
      " 0.64646465 0.56565657 0.5959596  0.46464646]\n",
      "Mean Accuracy: 0.581040404040404\n"
     ]
    },
    {
     "name": "stderr",
     "output_type": "stream",
     "text": [
      "c:\\Users\\Uporabnik\\AppData\\Local\\Programs\\Python\\Python311\\Lib\\site-packages\\sklearn\\model_selection\\_split.py:737: UserWarning: The least populated class in y has only 2 members, which is less than n_splits=10.\n",
      "  warnings.warn(\n"
     ]
    },
    {
     "name": "stdout",
     "output_type": "stream",
     "text": [
      "\n",
      "Best Hyperparameters for Decision Tree:\n",
      "{'max_depth': 20, 'min_samples_leaf': 1, 'min_samples_split': 10}\n",
      "\n",
      "Decision Tree Accuracy (with hyperparameter tuning): 0.5477386934673367\n",
      "              precision    recall  f1-score   support\n",
      "\n",
      "           0       0.00      0.00      0.00         1\n",
      "           1       0.00      0.00      0.00         5\n",
      "           2       0.00      0.00      0.00         6\n",
      "           3       0.62      0.46      0.53        56\n",
      "           4       0.20      0.20      0.20         5\n",
      "           5       0.75      1.00      0.86         3\n",
      "           6       0.00      0.00      0.00         2\n",
      "           7       0.56      0.85      0.68        89\n",
      "           9       0.50      0.11      0.18        18\n",
      "          10       0.00      0.00      0.00         4\n",
      "          12       0.33      0.10      0.15        10\n",
      "\n",
      "    accuracy                           0.55       199\n",
      "   macro avg       0.27      0.25      0.24       199\n",
      "weighted avg       0.50      0.55      0.49       199\n",
      "\n"
     ]
    },
    {
     "name": "stderr",
     "output_type": "stream",
     "text": [
      "c:\\Users\\Uporabnik\\AppData\\Local\\Programs\\Python\\Python311\\Lib\\site-packages\\sklearn\\metrics\\_classification.py:1471: UndefinedMetricWarning: Precision and F-score are ill-defined and being set to 0.0 in labels with no predicted samples. Use `zero_division` parameter to control this behavior.\n",
      "  _warn_prf(average, modifier, msg_start, len(result))\n",
      "c:\\Users\\Uporabnik\\AppData\\Local\\Programs\\Python\\Python311\\Lib\\site-packages\\sklearn\\metrics\\_classification.py:1471: UndefinedMetricWarning: Precision and F-score are ill-defined and being set to 0.0 in labels with no predicted samples. Use `zero_division` parameter to control this behavior.\n",
      "  _warn_prf(average, modifier, msg_start, len(result))\n",
      "c:\\Users\\Uporabnik\\AppData\\Local\\Programs\\Python\\Python311\\Lib\\site-packages\\sklearn\\metrics\\_classification.py:1471: UndefinedMetricWarning: Precision and F-score are ill-defined and being set to 0.0 in labels with no predicted samples. Use `zero_division` parameter to control this behavior.\n",
      "  _warn_prf(average, modifier, msg_start, len(result))\n"
     ]
    }
   ],
   "source": [
    "from sklearn.tree import DecisionTreeClassifier\n",
    "\n",
    "# Decision Tree model\n",
    "decision_tree_model = DecisionTreeClassifier(random_state=42)\n",
    "\n",
    "# Cross-validation for Decision Tree\n",
    "decision_tree_cv_scores = cross_val_score(decision_tree_model, X_tfidf, df['category_label'], cv=cv, scoring='accuracy')\n",
    "print(\"\\nDecision Tree Cross-Validation Scores:\", decision_tree_cv_scores)\n",
    "print(\"Mean Accuracy:\", decision_tree_cv_scores.mean())\n",
    "\n",
    "# Hyperparameter tuning for Decision Tree\n",
    "decision_tree_params = {'max_depth': [None, 10, 20, 30, 40], 'min_samples_split': [2, 5, 10], 'min_samples_leaf': [1, 2, 4]}\n",
    "\n",
    "decision_tree_grid = GridSearchCV(decision_tree_model, decision_tree_params, cv=cv, scoring='accuracy')\n",
    "decision_tree_grid.fit(X_train_tfidf, y_train)\n",
    "\n",
    "# Print the best hyperparameters for Decision Tree\n",
    "print(\"\\nBest Hyperparameters for Decision Tree:\")\n",
    "print(decision_tree_grid.best_params_)\n",
    "\n",
    "# Make predictions on the test set using the best Decision Tree model\n",
    "decision_tree_predictions = decision_tree_grid.predict(X_test_tfidf)\n",
    "\n",
    "# Evaluate the Decision Tree model\n",
    "decision_tree_accuracy = accuracy_score(y_test, decision_tree_predictions)\n",
    "print(\"\\nDecision Tree Accuracy (with hyperparameter tuning):\", decision_tree_accuracy)\n",
    "print(classification_report(y_test, decision_tree_predictions))\n"
   ]
  },
  {
   "cell_type": "markdown",
   "metadata": {},
   "source": [
    "# Majority Classifier Model"
   ]
  },
  {
   "cell_type": "code",
   "execution_count": 26,
   "metadata": {},
   "outputs": [
    {
     "name": "stdout",
     "output_type": "stream",
     "text": [
      "\n",
      "Majority Classifier Cross-Validation Scores: [0.48       0.49       0.49       0.49494949 0.49494949 0.49494949\n",
      " 0.49494949 0.49494949 0.48484848 0.48484848]\n",
      "Mean Accuracy: 0.49044444444444435\n",
      "\n",
      "Majority Classifier Accuracy: 0.4472361809045226\n",
      "              precision    recall  f1-score   support\n",
      "\n",
      "           0       0.00      0.00      0.00         1\n",
      "           1       0.00      0.00      0.00         5\n",
      "           2       0.00      0.00      0.00         6\n",
      "           3       0.00      0.00      0.00        56\n",
      "           4       0.00      0.00      0.00         5\n",
      "           5       0.00      0.00      0.00         3\n",
      "           6       0.00      0.00      0.00         2\n",
      "           7       0.45      1.00      0.62        89\n",
      "           9       0.00      0.00      0.00        18\n",
      "          10       0.00      0.00      0.00         4\n",
      "          12       0.00      0.00      0.00        10\n",
      "\n",
      "    accuracy                           0.45       199\n",
      "   macro avg       0.04      0.09      0.06       199\n",
      "weighted avg       0.20      0.45      0.28       199\n",
      "\n"
     ]
    },
    {
     "name": "stderr",
     "output_type": "stream",
     "text": [
      "c:\\Users\\Uporabnik\\AppData\\Local\\Programs\\Python\\Python311\\Lib\\site-packages\\sklearn\\model_selection\\_split.py:737: UserWarning: The least populated class in y has only 2 members, which is less than n_splits=10.\n",
      "  warnings.warn(\n",
      "c:\\Users\\Uporabnik\\AppData\\Local\\Programs\\Python\\Python311\\Lib\\site-packages\\sklearn\\metrics\\_classification.py:1471: UndefinedMetricWarning: Precision and F-score are ill-defined and being set to 0.0 in labels with no predicted samples. Use `zero_division` parameter to control this behavior.\n",
      "  _warn_prf(average, modifier, msg_start, len(result))\n",
      "c:\\Users\\Uporabnik\\AppData\\Local\\Programs\\Python\\Python311\\Lib\\site-packages\\sklearn\\metrics\\_classification.py:1471: UndefinedMetricWarning: Precision and F-score are ill-defined and being set to 0.0 in labels with no predicted samples. Use `zero_division` parameter to control this behavior.\n",
      "  _warn_prf(average, modifier, msg_start, len(result))\n",
      "c:\\Users\\Uporabnik\\AppData\\Local\\Programs\\Python\\Python311\\Lib\\site-packages\\sklearn\\metrics\\_classification.py:1471: UndefinedMetricWarning: Precision and F-score are ill-defined and being set to 0.0 in labels with no predicted samples. Use `zero_division` parameter to control this behavior.\n",
      "  _warn_prf(average, modifier, msg_start, len(result))\n"
     ]
    }
   ],
   "source": [
    "from sklearn.dummy import DummyClassifier\n",
    "\n",
    "# Majority Classifier model\n",
    "majority_classifier_model = DummyClassifier(strategy='most_frequent')\n",
    "\n",
    "# Cross-validation for Majority Classifier\n",
    "majority_classifier_cv_scores = cross_val_score(majority_classifier_model, X_tfidf, df['category_label'], cv=cv, scoring='accuracy')\n",
    "print(\"\\nMajority Classifier Cross-Validation Scores:\", majority_classifier_cv_scores)\n",
    "print(\"Mean Accuracy:\", majority_classifier_cv_scores.mean())\n",
    "\n",
    "# Since there are no hyperparameters to tune, we don't need GridSearchCV for Majority Classifier\n",
    "\n",
    "# Fit the Majority Classifier model to the training data\n",
    "majority_classifier_model.fit(X_train_tfidf, y_train)\n",
    "\n",
    "# Make predictions on the test set\n",
    "majority_classifier_predictions = majority_classifier_model.predict(X_test_tfidf)\n",
    "\n",
    "# Evaluate the Majority Classifier model\n",
    "majority_classifier_accuracy = accuracy_score(y_test, majority_classifier_predictions)\n",
    "print(\"\\nMajority Classifier Accuracy:\", majority_classifier_accuracy)\n",
    "print(classification_report(y_test, majority_classifier_predictions))\n"
   ]
  },
  {
   "cell_type": "markdown",
   "metadata": {},
   "source": [
    "# Visualize results"
   ]
  },
  {
   "cell_type": "code",
   "execution_count": 27,
   "metadata": {},
   "outputs": [
    {
     "data": {
      "image/png": "[encoded data removed]",
      "text/plain": [
       "<Figure size 640x480 with 1 Axes>"
      ]
     },
     "metadata": {},
     "output_type": "display_data"
    }
   ],
   "source": [
    "# Create a plot for the results\n",
    "from matplotlib import pyplot as plt\n",
    "\n",
    "\n",
    "results = [logistic_regression_accuracy, random_forest_accuracy, knn_accuracy,\n",
    "            svm_accuracy, naive_bayes_accuracy, decision_tree_accuracy, majority_classifier_accuracy]\n",
    "classifiers = ['Logistic Regression', 'Random Forest', 'K Nearest Neighbors',\n",
    "            'Support Vector Machines', 'Naive Bayes', 'Decision Trees', 'Majority Classifier']\n",
    "\n",
    "# Sort results and classifiers in ascending order of accuracy\n",
    "sorted_results, sorted_classifiers = zip(*sorted(zip(results, classifiers)))\n",
    "\n",
    "# Create a bar plot\n",
    "plt.barh(sorted_classifiers, sorted_results, color='skyblue')\n",
    "plt.xlabel('Accuracy')\n",
    "plt.title('Classifier Accuracy Comparison (Low to High)')\n",
    "plt.xlim(0, 1.0)  # Set the x-axis limits from 0 to 1 for accuracy values\n",
    "\n",
    "# Annotate the bars with accuracy values\n",
    "for i, result in enumerate(sorted_results):\n",
    "    plt.text(result + 0.01, i, f'{result:.2f}', va='center', fontsize=12)\n",
    "\n",
    "plt.tight_layout()\n",
    "plt.show()"
   ]
  }
 ],
 "metadata": {
  "kernelspec": {
   "display_name": "Python 3",
   "language": "python",
   "name": "python3"
  },
  "language_info": {
   "codemirror_mode": {
    "name": "ipython",
    "version": 3
   },
   "file_extension": ".py",
   "mimetype": "text/x-python",
   "name": "python",
   "nbconvert_exporter": "python",
   "pygments_lexer": "ipython3",
   "version": "3.11.2"
  }
 },
 "nbformat": 4,
 "nbformat_minor": 2
}
